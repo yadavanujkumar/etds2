{
  "nbformat": 4,
  "nbformat_minor": 0,
  "metadata": {
    "colab": {
      "provenance": []
    },
    "kernelspec": {
      "name": "python3",
      "display_name": "Python 3"
    },
    "language_info": {
      "name": "python"
    }
  },
  "cells": [
    {
      "cell_type": "markdown",
      "source": [
        "word count ka prac\n"
      ],
      "metadata": {
        "id": "sGnesAP-9k3k"
      }
    },
    {
      "cell_type": "code",
      "source": [
        "from pyspark import SparkConf, SparkContext"
      ],
      "metadata": {
        "id": "7ps_HUo49qrc"
      },
      "execution_count": null,
      "outputs": []
    },
    {
      "cell_type": "code",
      "source": [
        "#intialize spark context\n",
        "conf = SparkConf().setAppName(\"PySparkWordCunt\").setMaster(\"local\")\n",
        "sc = SparkContext(conf=conf)"
      ],
      "metadata": {
        "id": "ubyI_nY29y2l"
      },
      "execution_count": null,
      "outputs": []
    },
    {
      "cell_type": "code",
      "source": [
        "#create rdd from a list of sentence\n",
        "data = [\"Python is a high-level, general-purpose programming language.Its design philosophy emphasizes code readability with the use of significant indentation.Pthon is dynamically type-checked and garbage-collected. It supports multiple programming paradigms, including structured (particularly procedural), object-oriented and functional programming.\",\"Guido van Rossum began working on Python in the late 1980s as a successor to the ABC programming language, and he first released it in 1991 as Python 0.9.0.[34] Python 2.0 was released in 2000. Python 3.0, released in 2008, was a major revision not completely backward-compatible with earlier versions. Python 2.7.18, released in 2020, was the last release of Python 2.\",\"Python was conceived in the late 1980s[40] by Guido van Rossum at Centrum Wiskunde & Informatica (CWI) in the Netherlands; it was conceived as a successor to the ABC programming language, which was inspired by SETL,[41] capable of exception handling and interfacing with the Amoeba operating system.[12] Python implementation began in December, 1989.[42] Van Rossum assumed sole responsibility for the project, as the lead developer, until 12 July 2018, when he announced his  from responsibilities as Python's  (BDFL); this title was bestowed on him by the Python community to reflect his long-term commitment as the project's chief decision-maker.[43] (He has since come out of retirement and is self-titled .) In January 2019, active Python core developers elected a five-member Steering Council to lead the project.[44][45]\"]\n",
        "rdd = sc.parallelize(data)"
      ],
      "metadata": {
        "id": "Qj4Q7UU9-G-U"
      },
      "execution_count": null,
      "outputs": []
    },
    {
      "cell_type": "code",
      "source": [
        "#splittinbg eaxh sentence in word\n",
        "words_rdd = rdd.flatMap(lambda sentence: sentence.split(\" \"))\n"
      ],
      "metadata": {
        "id": "dCYGiH4N-9uN"
      },
      "execution_count": null,
      "outputs": []
    },
    {
      "cell_type": "code",
      "source": [
        "#mapping eaxh word to a tuple\n",
        "words_pairs_rdd = words_rdd.map(lambda word: (word, 1))"
      ],
      "metadata": {
        "id": "wR2Y1YME_HoU"
      },
      "execution_count": null,
      "outputs": []
    },
    {
      "cell_type": "code",
      "source": [
        "#reduce by word to count occurunces\n",
        "word_counts_rdd = words_pairs_rdd.reduceByKey(lambda a, b: a + b)"
      ],
      "metadata": {
        "id": "BHvdu-Z1_OD0"
      },
      "execution_count": null,
      "outputs": []
    },
    {
      "cell_type": "code",
      "source": [
        "#collecting\n",
        "word_count=word_counts_rdd.collect()"
      ],
      "metadata": {
        "id": "5WVTJQ3P_SME"
      },
      "execution_count": null,
      "outputs": []
    },
    {
      "cell_type": "code",
      "source": [
        "for word,count in word_count:\n",
        "    print(f\"{word}:{count}\")"
      ],
      "metadata": {
        "colab": {
          "base_uri": "https://localhost:8080/"
        },
        "id": "GYH2_lIi_XQU",
        "outputId": "5799f8b2-8f89-4709-db36-0c657f2012ff"
      },
      "execution_count": null,
      "outputs": [
        {
          "output_type": "stream",
          "name": "stdout",
          "text": [
            "Python:11\n",
            "is:3\n",
            "a:5\n",
            "high-level,:1\n",
            "general-purpose:1\n",
            "programming:4\n",
            "language.Its:1\n",
            "design:1\n",
            "philosophy:1\n",
            "emphasizes:1\n",
            "code:1\n",
            "readability:1\n",
            "with:3\n",
            "the:13\n",
            "use:1\n",
            "of:4\n",
            "significant:1\n",
            "indentation.Pthon:1\n",
            "dynamically:1\n",
            "type-checked:1\n",
            "and:5\n",
            "garbage-collected.:1\n",
            "It:1\n",
            "supports:1\n",
            "multiple:1\n",
            "paradigms,:1\n",
            "including:1\n",
            "structured:1\n",
            "(particularly:1\n",
            "procedural),:1\n",
            "object-oriented:1\n",
            "functional:1\n",
            "programming.:1\n",
            "Guido:2\n",
            "van:2\n",
            "Rossum:3\n",
            "began:2\n",
            "working:1\n",
            "on:2\n",
            "in:8\n",
            "late:2\n",
            "1980s:1\n",
            "as:6\n",
            "successor:2\n",
            "to:4\n",
            "ABC:2\n",
            "language,:2\n",
            "he:2\n",
            "first:1\n",
            "released:4\n",
            "it:2\n",
            "1991:1\n",
            "0.9.0.[34]:1\n",
            "2.0:1\n",
            "was:7\n",
            "2000.:1\n",
            "3.0,:1\n",
            "2008,:1\n",
            "major:1\n",
            "revision:1\n",
            "not:1\n",
            "completely:1\n",
            "backward-compatible:1\n",
            "earlier:1\n",
            "versions.:1\n",
            "2.7.18,:1\n",
            "2020,:1\n",
            "last:1\n",
            "release:1\n",
            "2.:1\n",
            "conceived:2\n",
            "1980s[40]:1\n",
            "by:3\n",
            "at:1\n",
            "Centrum:1\n",
            "Wiskunde:1\n",
            "&:1\n",
            "Informatica:1\n",
            "(CWI):1\n",
            "Netherlands;:1\n",
            "which:1\n",
            "inspired:1\n",
            "SETL,[41]:1\n",
            "capable:1\n",
            "exception:1\n",
            "handling:1\n",
            "interfacing:1\n",
            "Amoeba:1\n",
            "operating:1\n",
            "system.[12]:1\n",
            "implementation:1\n",
            "December,:1\n",
            "1989.[42]:1\n",
            "Van:1\n",
            "assumed:1\n",
            "sole:1\n",
            "responsibility:1\n",
            "for:1\n",
            "project,:1\n",
            "lead:2\n",
            "developer,:1\n",
            "until:1\n",
            "12:1\n",
            "July:1\n",
            "2018,:1\n",
            "when:1\n",
            "announced:1\n",
            "his:2\n",
            ":2\n",
            "from:1\n",
            "responsibilities:1\n",
            "Python's:1\n",
            "(BDFL);:1\n",
            "this:1\n",
            "title:1\n",
            "bestowed:1\n",
            "him:1\n",
            "community:1\n",
            "reflect:1\n",
            "long-term:1\n",
            "commitment:1\n",
            "project's:1\n",
            "chief:1\n",
            "decision-maker.[43]:1\n",
            "(He:1\n",
            "has:1\n",
            "since:1\n",
            "come:1\n",
            "out:1\n",
            "retirement:1\n",
            "self-titled:1\n",
            ".):1\n",
            "In:1\n",
            "January:1\n",
            "2019,:1\n",
            "active:1\n",
            "core:1\n",
            "developers:1\n",
            "elected:1\n",
            "five-member:1\n",
            "Steering:1\n",
            "Council:1\n",
            "project.[44][45]:1\n"
          ]
        }
      ]
    },
    {
      "cell_type": "code",
      "source": [
        "sc.stop()"
      ],
      "metadata": {
        "id": "OaMblo5T_d7b"
      },
      "execution_count": null,
      "outputs": []
    },
    {
      "cell_type": "code",
      "source": [],
      "metadata": {
        "id": "yd3yj4jfArGU"
      },
      "execution_count": null,
      "outputs": []
    }
  ]
}