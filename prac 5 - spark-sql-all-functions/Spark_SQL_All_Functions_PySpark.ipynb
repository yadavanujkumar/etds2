{
  "nbformat": 4,
  "nbformat_minor": 0,
  "metadata": {
    "colab": {
      "provenance": []
    },
    "kernelspec": {
      "name": "python3",
      "display_name": "Python 3"
    },
    "language_info": {
      "name": "python"
    }
  },
  "cells": [
    {
      "cell_type": "code",
      "execution_count": 2,
      "metadata": {
        "id": "oUuA4-nFNpTl"
      },
      "outputs": [],
      "source": [
        "from pyspark.sql import SparkSession\n",
        "from pyspark.sql.functions import lit\n",
        "from datetime import datetime"
      ]
    },
    {
      "cell_type": "code",
      "source": [
        "spark=SparkSession.builder.appName(\"PySparkSqlFunctions\").getOrCreate()"
      ],
      "metadata": {
        "id": "YN56qG9zOEdi"
      },
      "execution_count": 3,
      "outputs": []
    },
    {
      "cell_type": "code",
      "source": [
        "spark"
      ],
      "metadata": {
        "colab": {
          "base_uri": "https://localhost:8080/",
          "height": 219
        },
        "id": "BpilTBkhOP7A",
        "outputId": "58d69cda-5b12-4f48-826e-7a9ad2393030"
      },
      "execution_count": 4,
      "outputs": [
        {
          "output_type": "execute_result",
          "data": {
            "text/plain": [
              "<pyspark.sql.session.SparkSession at 0x793e7a22d6d0>"
            ],
            "text/html": [
              "\n",
              "            <div>\n",
              "                <p><b>SparkSession - in-memory</b></p>\n",
              "                \n",
              "        <div>\n",
              "            <p><b>SparkContext</b></p>\n",
              "\n",
              "            <p><a href=\"http://c4bd24f74af1:4040\">Spark UI</a></p>\n",
              "\n",
              "            <dl>\n",
              "              <dt>Version</dt>\n",
              "                <dd><code>v3.5.1</code></dd>\n",
              "              <dt>Master</dt>\n",
              "                <dd><code>local[*]</code></dd>\n",
              "              <dt>AppName</dt>\n",
              "                <dd><code>PySparkSqlFunctions</code></dd>\n",
              "            </dl>\n",
              "        </div>\n",
              "        \n",
              "            </div>\n",
              "        "
            ]
          },
          "metadata": {},
          "execution_count": 4
        }
      ]
    },
    {
      "cell_type": "code",
      "source": [
        "data = [\n",
        "    (1,\"Anuj Yadav\" , \"2024-08-01\", 23,1000.50),\n",
        "    (2,\"Alina Pradhan\",\"2024-08-02\",34,2000.75),\n",
        "    (3, \"Jake White\", \"2024-08-03\", 18, 3000.10),\n",
        "    (4, \"Jill Black\", \"2024-08-04\", 45, 4000.25),\n",
        "    (5, \"James Brown\", \"2024-08-05\", 29, 1500.30),\n",
        "    (6, \"Madhav Mishra\", \"2024-08-06\", 31, 2500.45),\n",
        "    (7, \"John Doe\", \"2024-08-07\", 20, 1100.50),\n",
        "    (8, \"Jane Smith\", \"2024-08-08\", 30, 2200.75)\n",
        "\n",
        "]"
      ],
      "metadata": {
        "id": "p0TYcPU3OS0o"
      },
      "execution_count": 5,
      "outputs": []
    },
    {
      "cell_type": "code",
      "source": [
        "columns = [\"id\",\"name\",\"dob\",\"age\",\"salary\"]\n",
        "df=spark.createDataFrame(data,columns)"
      ],
      "metadata": {
        "id": "ekyf1LD2PJRS"
      },
      "execution_count": 6,
      "outputs": []
    },
    {
      "cell_type": "code",
      "source": [
        "df.show()"
      ],
      "metadata": {
        "colab": {
          "base_uri": "https://localhost:8080/"
        },
        "id": "bLAK-dFbPPGQ",
        "outputId": "b13243c1-2534-44bb-b1c7-ae30a2f68f4e"
      },
      "execution_count": 7,
      "outputs": [
        {
          "output_type": "stream",
          "name": "stdout",
          "text": [
            "+---+-------------+----------+---+-------+\n",
            "| id|         name|       dob|age| salary|\n",
            "+---+-------------+----------+---+-------+\n",
            "|  1|   Anuj Yadav|2024-08-01| 23| 1000.5|\n",
            "|  2|Alina Pradhan|2024-08-02| 34|2000.75|\n",
            "|  3|   Jake White|2024-08-03| 18| 3000.1|\n",
            "|  4|   Jill Black|2024-08-04| 45|4000.25|\n",
            "|  5|  James Brown|2024-08-05| 29| 1500.3|\n",
            "|  6|Madhav Mishra|2024-08-06| 31|2500.45|\n",
            "|  7|     John Doe|2024-08-07| 20| 1100.5|\n",
            "|  8|   Jane Smith|2024-08-08| 30|2200.75|\n",
            "+---+-------------+----------+---+-------+\n",
            "\n"
          ]
        }
      ]
    },
    {
      "cell_type": "code",
      "source": [
        "#col\n",
        "#select the \"name \" column\n",
        "from pyspark.sql.functions import col\n",
        "df.select(col(\"name\")).show()"
      ],
      "metadata": {
        "colab": {
          "base_uri": "https://localhost:8080/"
        },
        "id": "3A4iPxWKPQXg",
        "outputId": "4cd08293-4793-4c06-a028-18fe60b2cea5"
      },
      "execution_count": 8,
      "outputs": [
        {
          "output_type": "stream",
          "name": "stdout",
          "text": [
            "+-------------+\n",
            "|         name|\n",
            "+-------------+\n",
            "|   Anuj Yadav|\n",
            "|Alina Pradhan|\n",
            "|   Jake White|\n",
            "|   Jill Black|\n",
            "|  James Brown|\n",
            "|Madhav Mishra|\n",
            "|     John Doe|\n",
            "|   Jane Smith|\n",
            "+-------------+\n",
            "\n"
          ]
        }
      ]
    },
    {
      "cell_type": "code",
      "source": [
        "#lit\n",
        "#adds a new column with a literal value\n",
        "df_country =df.withColumn(\"country\", lit(\"USA\"))\n",
        "df_country.show()"
      ],
      "metadata": {
        "colab": {
          "base_uri": "https://localhost:8080/"
        },
        "id": "SMgei25bQEnw",
        "outputId": "84cb0a39-ebda-421a-b6c5-590853350884"
      },
      "execution_count": 9,
      "outputs": [
        {
          "output_type": "stream",
          "name": "stdout",
          "text": [
            "+---+-------------+----------+---+-------+-------+\n",
            "| id|         name|       dob|age| salary|country|\n",
            "+---+-------------+----------+---+-------+-------+\n",
            "|  1|   Anuj Yadav|2024-08-01| 23| 1000.5|    USA|\n",
            "|  2|Alina Pradhan|2024-08-02| 34|2000.75|    USA|\n",
            "|  3|   Jake White|2024-08-03| 18| 3000.1|    USA|\n",
            "|  4|   Jill Black|2024-08-04| 45|4000.25|    USA|\n",
            "|  5|  James Brown|2024-08-05| 29| 1500.3|    USA|\n",
            "|  6|Madhav Mishra|2024-08-06| 31|2500.45|    USA|\n",
            "|  7|     John Doe|2024-08-07| 20| 1100.5|    USA|\n",
            "|  8|   Jane Smith|2024-08-08| 30|2200.75|    USA|\n",
            "+---+-------------+----------+---+-------+-------+\n",
            "\n"
          ]
        }
      ]
    },
    {
      "cell_type": "code",
      "source": [
        "df.show()"
      ],
      "metadata": {
        "colab": {
          "base_uri": "https://localhost:8080/"
        },
        "id": "K_XBZdXCQWio",
        "outputId": "9f229990-2dd4-4e10-fb09-51745c95de1f"
      },
      "execution_count": 10,
      "outputs": [
        {
          "output_type": "stream",
          "name": "stdout",
          "text": [
            "+---+-------------+----------+---+-------+\n",
            "| id|         name|       dob|age| salary|\n",
            "+---+-------------+----------+---+-------+\n",
            "|  1|   Anuj Yadav|2024-08-01| 23| 1000.5|\n",
            "|  2|Alina Pradhan|2024-08-02| 34|2000.75|\n",
            "|  3|   Jake White|2024-08-03| 18| 3000.1|\n",
            "|  4|   Jill Black|2024-08-04| 45|4000.25|\n",
            "|  5|  James Brown|2024-08-05| 29| 1500.3|\n",
            "|  6|Madhav Mishra|2024-08-06| 31|2500.45|\n",
            "|  7|     John Doe|2024-08-07| 20| 1100.5|\n",
            "|  8|   Jane Smith|2024-08-08| 30|2200.75|\n",
            "+---+-------------+----------+---+-------+\n",
            "\n"
          ]
        }
      ]
    },
    {
      "cell_type": "code",
      "source": [
        "#expr\n",
        "#adds 5 to the age column\n",
        "from pyspark.sql.functions import expr\n",
        "df_age = df.withColumn(\"age_plus_5\", expr(\"age + 5\"))\n",
        "df_age.show()"
      ],
      "metadata": {
        "colab": {
          "base_uri": "https://localhost:8080/"
        },
        "id": "VZe8j_0CQZLA",
        "outputId": "e0b97190-07b1-4123-a73d-79bb1d22bd0d"
      },
      "execution_count": 11,
      "outputs": [
        {
          "output_type": "stream",
          "name": "stdout",
          "text": [
            "+---+-------------+----------+---+-------+----------+\n",
            "| id|         name|       dob|age| salary|age_plus_5|\n",
            "+---+-------------+----------+---+-------+----------+\n",
            "|  1|   Anuj Yadav|2024-08-01| 23| 1000.5|        28|\n",
            "|  2|Alina Pradhan|2024-08-02| 34|2000.75|        39|\n",
            "|  3|   Jake White|2024-08-03| 18| 3000.1|        23|\n",
            "|  4|   Jill Black|2024-08-04| 45|4000.25|        50|\n",
            "|  5|  James Brown|2024-08-05| 29| 1500.3|        34|\n",
            "|  6|Madhav Mishra|2024-08-06| 31|2500.45|        36|\n",
            "|  7|     John Doe|2024-08-07| 20| 1100.5|        25|\n",
            "|  8|   Jane Smith|2024-08-08| 30|2200.75|        35|\n",
            "+---+-------------+----------+---+-------+----------+\n",
            "\n"
          ]
        }
      ]
    },
    {
      "cell_type": "code",
      "source": [
        "#when\n",
        "from pyspark.sql.functions import when\n",
        "\n",
        "df_classification = df.withColumn(\"classification\", when(col(\"age\") >= 18, \"Adult\").otherwise(\"Minor\"))\n",
        "df_classification.show()"
      ],
      "metadata": {
        "colab": {
          "base_uri": "https://localhost:8080/"
        },
        "id": "kOq-RYHzQku4",
        "outputId": "2c8c407a-d0f5-4c48-8502-ca19240cb163"
      },
      "execution_count": 12,
      "outputs": [
        {
          "output_type": "stream",
          "name": "stdout",
          "text": [
            "+---+-------------+----------+---+-------+--------------+\n",
            "| id|         name|       dob|age| salary|classification|\n",
            "+---+-------------+----------+---+-------+--------------+\n",
            "|  1|   Anuj Yadav|2024-08-01| 23| 1000.5|         Adult|\n",
            "|  2|Alina Pradhan|2024-08-02| 34|2000.75|         Adult|\n",
            "|  3|   Jake White|2024-08-03| 18| 3000.1|         Adult|\n",
            "|  4|   Jill Black|2024-08-04| 45|4000.25|         Adult|\n",
            "|  5|  James Brown|2024-08-05| 29| 1500.3|         Adult|\n",
            "|  6|Madhav Mishra|2024-08-06| 31|2500.45|         Adult|\n",
            "|  7|     John Doe|2024-08-07| 20| 1100.5|         Adult|\n",
            "|  8|   Jane Smith|2024-08-08| 30|2200.75|         Adult|\n",
            "+---+-------------+----------+---+-------+--------------+\n",
            "\n"
          ]
        }
      ]
    },
    {
      "cell_type": "code",
      "source": [
        "#when classifies people as \"adults\" or minor\n",
        "from pyspark.sql.functions import when\n",
        "\n",
        "df_classification = df.withColumn(\"classification\", when(col(\"age\") >= 18, \"Adult\").otherwise(\"Minor\"))\n",
        "df_classification.show()"
      ],
      "metadata": {
        "colab": {
          "base_uri": "https://localhost:8080/"
        },
        "id": "LoIq8CkFQ8I3",
        "outputId": "f0eda379-5187-4857-ad5d-80445db04571"
      },
      "execution_count": 13,
      "outputs": [
        {
          "output_type": "stream",
          "name": "stdout",
          "text": [
            "+---+-------------+----------+---+-------+--------------+\n",
            "| id|         name|       dob|age| salary|classification|\n",
            "+---+-------------+----------+---+-------+--------------+\n",
            "|  1|   Anuj Yadav|2024-08-01| 23| 1000.5|         Adult|\n",
            "|  2|Alina Pradhan|2024-08-02| 34|2000.75|         Adult|\n",
            "|  3|   Jake White|2024-08-03| 18| 3000.1|         Adult|\n",
            "|  4|   Jill Black|2024-08-04| 45|4000.25|         Adult|\n",
            "|  5|  James Brown|2024-08-05| 29| 1500.3|         Adult|\n",
            "|  6|Madhav Mishra|2024-08-06| 31|2500.45|         Adult|\n",
            "|  7|     John Doe|2024-08-07| 20| 1100.5|         Adult|\n",
            "|  8|   Jane Smith|2024-08-08| 30|2200.75|         Adult|\n",
            "+---+-------------+----------+---+-------+--------------+\n",
            "\n"
          ]
        }
      ]
    },
    {
      "cell_type": "code",
      "source": [
        "#concat\n",
        "#concatness first and last names with a space\n",
        "from pyspark.sql.functions import concat\n",
        "df_concat = df.withColumn(\"full_name\", concat(col(\"name\"), lit(\" \")))\n",
        "df_concat.show()"
      ],
      "metadata": {
        "colab": {
          "base_uri": "https://localhost:8080/"
        },
        "id": "jU6rd7wZRLQf",
        "outputId": "94307f41-f15f-4bec-93be-58fe6fde030c"
      },
      "execution_count": 14,
      "outputs": [
        {
          "output_type": "stream",
          "name": "stdout",
          "text": [
            "+---+-------------+----------+---+-------+--------------+\n",
            "| id|         name|       dob|age| salary|     full_name|\n",
            "+---+-------------+----------+---+-------+--------------+\n",
            "|  1|   Anuj Yadav|2024-08-01| 23| 1000.5|   Anuj Yadav |\n",
            "|  2|Alina Pradhan|2024-08-02| 34|2000.75|Alina Pradhan |\n",
            "|  3|   Jake White|2024-08-03| 18| 3000.1|   Jake White |\n",
            "|  4|   Jill Black|2024-08-04| 45|4000.25|   Jill Black |\n",
            "|  5|  James Brown|2024-08-05| 29| 1500.3|  James Brown |\n",
            "|  6|Madhav Mishra|2024-08-06| 31|2500.45|Madhav Mishra |\n",
            "|  7|     John Doe|2024-08-07| 20| 1100.5|     John Doe |\n",
            "|  8|   Jane Smith|2024-08-08| 30|2200.75|   Jane Smith |\n",
            "+---+-------------+----------+---+-------+--------------+\n",
            "\n"
          ]
        }
      ]
    },
    {
      "cell_type": "code",
      "source": [
        "#substring\n",
        "#extracts the first three characters from the bame column\n",
        "from pyspark.sql.functions import substring\n",
        "df_substring = df.withColumn(\"first_three_chars\", substring(col(\"name\"), 1, 3))\n",
        "df_substring.show()"
      ],
      "metadata": {
        "colab": {
          "base_uri": "https://localhost:8080/"
        },
        "id": "DwQ-T6RvRYU4",
        "outputId": "304097f9-0565-4d67-d6e8-e152735337f5"
      },
      "execution_count": 15,
      "outputs": [
        {
          "output_type": "stream",
          "name": "stdout",
          "text": [
            "+---+-------------+----------+---+-------+-----------------+\n",
            "| id|         name|       dob|age| salary|first_three_chars|\n",
            "+---+-------------+----------+---+-------+-----------------+\n",
            "|  1|   Anuj Yadav|2024-08-01| 23| 1000.5|              Anu|\n",
            "|  2|Alina Pradhan|2024-08-02| 34|2000.75|              Ali|\n",
            "|  3|   Jake White|2024-08-03| 18| 3000.1|              Jak|\n",
            "|  4|   Jill Black|2024-08-04| 45|4000.25|              Jil|\n",
            "|  5|  James Brown|2024-08-05| 29| 1500.3|              Jam|\n",
            "|  6|Madhav Mishra|2024-08-06| 31|2500.45|              Mad|\n",
            "|  7|     John Doe|2024-08-07| 20| 1100.5|              Joh|\n",
            "|  8|   Jane Smith|2024-08-08| 30|2200.75|              Jan|\n",
            "+---+-------------+----------+---+-------+-----------------+\n",
            "\n"
          ]
        }
      ]
    },
    {
      "cell_type": "code",
      "source": [
        "#split\n",
        "#split the name column into an arraay of words\n",
        "from pyspark.sql.functions import split\n",
        "df_split = df.withColumn(\"name_array\", split(col(\"name\"), \" \"))\n",
        "df_split.show()"
      ],
      "metadata": {
        "colab": {
          "base_uri": "https://localhost:8080/"
        },
        "id": "nbPa2niBRmVP",
        "outputId": "dde7a27d-6303-4222-e29c-accdf9e95075"
      },
      "execution_count": 16,
      "outputs": [
        {
          "output_type": "stream",
          "name": "stdout",
          "text": [
            "+---+-------------+----------+---+-------+----------------+\n",
            "| id|         name|       dob|age| salary|      name_array|\n",
            "+---+-------------+----------+---+-------+----------------+\n",
            "|  1|   Anuj Yadav|2024-08-01| 23| 1000.5|   [Anuj, Yadav]|\n",
            "|  2|Alina Pradhan|2024-08-02| 34|2000.75|[Alina, Pradhan]|\n",
            "|  3|   Jake White|2024-08-03| 18| 3000.1|   [Jake, White]|\n",
            "|  4|   Jill Black|2024-08-04| 45|4000.25|   [Jill, Black]|\n",
            "|  5|  James Brown|2024-08-05| 29| 1500.3|  [James, Brown]|\n",
            "|  6|Madhav Mishra|2024-08-06| 31|2500.45|[Madhav, Mishra]|\n",
            "|  7|     John Doe|2024-08-07| 20| 1100.5|     [John, Doe]|\n",
            "|  8|   Jane Smith|2024-08-08| 30|2200.75|   [Jane, Smith]|\n",
            "+---+-------------+----------+---+-------+----------------+\n",
            "\n"
          ]
        }
      ]
    },
    {
      "cell_type": "code",
      "source": [
        "#regexp replace\n",
        "#replaces \"john\" with  \"jon\" in the \"name\" column\n",
        "from pyspark.sql.functions import regexp_replace\n",
        "df_replace = df.withColumn(\"replaced_name\", regexp_replace(col(\"name\"), \"John\", \"Jon\"))\n",
        "df_replace.show()\n"
      ],
      "metadata": {
        "colab": {
          "base_uri": "https://localhost:8080/"
        },
        "id": "Fjgvi_M6R3dv",
        "outputId": "1d296350-bfe1-488d-87c5-18fca9860283"
      },
      "execution_count": 17,
      "outputs": [
        {
          "output_type": "stream",
          "name": "stdout",
          "text": [
            "+---+-------------+----------+---+-------+-------------+\n",
            "| id|         name|       dob|age| salary|replaced_name|\n",
            "+---+-------------+----------+---+-------+-------------+\n",
            "|  1|   Anuj Yadav|2024-08-01| 23| 1000.5|   Anuj Yadav|\n",
            "|  2|Alina Pradhan|2024-08-02| 34|2000.75|Alina Pradhan|\n",
            "|  3|   Jake White|2024-08-03| 18| 3000.1|   Jake White|\n",
            "|  4|   Jill Black|2024-08-04| 45|4000.25|   Jill Black|\n",
            "|  5|  James Brown|2024-08-05| 29| 1500.3|  James Brown|\n",
            "|  6|Madhav Mishra|2024-08-06| 31|2500.45|Madhav Mishra|\n",
            "|  7|     John Doe|2024-08-07| 20| 1100.5|      Jon Doe|\n",
            "|  8|   Jane Smith|2024-08-08| 30|2200.75|   Jane Smith|\n",
            "+---+-------------+----------+---+-------+-------------+\n",
            "\n"
          ]
        }
      ]
    },
    {
      "cell_type": "code",
      "source": [
        "#count\n",
        "#counts the number of records in the dataframe\n",
        "from pyspark.sql.functions import count\n",
        "df_count = df.agg(count(\"*\").alias(\"total_count\"))\n",
        "df_count.show()"
      ],
      "metadata": {
        "colab": {
          "base_uri": "https://localhost:8080/"
        },
        "id": "wHdDHvMYSJon",
        "outputId": "d3c5c810-7dca-497f-e7f1-5088af7d400e"
      },
      "execution_count": 18,
      "outputs": [
        {
          "output_type": "stream",
          "name": "stdout",
          "text": [
            "+-----------+\n",
            "|total_count|\n",
            "+-----------+\n",
            "|          8|\n",
            "+-----------+\n",
            "\n"
          ]
        }
      ]
    },
    {
      "cell_type": "code",
      "source": [
        "#sumn\n",
        "#calculates the total salary\n",
        "from pyspark.sql.functions import sum\n",
        "df_sum = df.agg(sum(\"salary\").alias(\"total_salary\"))\n",
        "df_sum.show()"
      ],
      "metadata": {
        "colab": {
          "base_uri": "https://localhost:8080/"
        },
        "id": "Hl7WrPTQSYfX",
        "outputId": "dafd4faf-cb4d-40ff-b235-53c95b3be601"
      },
      "execution_count": 19,
      "outputs": [
        {
          "output_type": "stream",
          "name": "stdout",
          "text": [
            "+------------+\n",
            "|total_salary|\n",
            "+------------+\n",
            "|     17303.6|\n",
            "+------------+\n",
            "\n"
          ]
        }
      ]
    },
    {
      "cell_type": "code",
      "source": [
        "#avg\n",
        "#calculates the average age\n",
        "from pyspark.sql.functions import avg\n",
        "df_avg = df.agg(avg(\"age\").alias(\"average_age\"))\n",
        "df_avg.show()"
      ],
      "metadata": {
        "colab": {
          "base_uri": "https://localhost:8080/"
        },
        "id": "28ycq7-iSgL_",
        "outputId": "c64c9196-8631-49f5-a89b-59b2bd74c0a0"
      },
      "execution_count": 20,
      "outputs": [
        {
          "output_type": "stream",
          "name": "stdout",
          "text": [
            "+-----------+\n",
            "|average_age|\n",
            "+-----------+\n",
            "|      28.75|\n",
            "+-----------+\n",
            "\n"
          ]
        }
      ]
    },
    {
      "cell_type": "code",
      "source": [
        "#max\n",
        "#finds the maximum sal\n",
        "from pyspark.sql.functions import max\n",
        "df_max = df.agg(max(\"salary\").alias(\"max_salary\"))\n",
        "df_max.show()"
      ],
      "metadata": {
        "colab": {
          "base_uri": "https://localhost:8080/"
        },
        "id": "TcN2XjRfTBU_",
        "outputId": "978b3b67-29ea-4779-d372-a18273e23a48"
      },
      "execution_count": 21,
      "outputs": [
        {
          "output_type": "stream",
          "name": "stdout",
          "text": [
            "+----------+\n",
            "|max_salary|\n",
            "+----------+\n",
            "|   4000.25|\n",
            "+----------+\n",
            "\n"
          ]
        }
      ]
    },
    {
      "cell_type": "code",
      "source": [
        "#min\n",
        "#finds tge minimum age\n",
        "from pyspark.sql.functions import min\n",
        "df_min = df.agg(min(\"age\").alias(\"min_age\"))\n",
        "df_min.show()"
      ],
      "metadata": {
        "colab": {
          "base_uri": "https://localhost:8080/"
        },
        "id": "0drj7bCETGzf",
        "outputId": "f9f7ee15-e96a-4f5e-bdbd-be768226cb54"
      },
      "execution_count": 22,
      "outputs": [
        {
          "output_type": "stream",
          "name": "stdout",
          "text": [
            "+-------+\n",
            "|min_age|\n",
            "+-------+\n",
            "|     18|\n",
            "+-------+\n",
            "\n"
          ]
        }
      ]
    },
    {
      "cell_type": "code",
      "source": [
        "#round\n",
        "from pyspark.sql.functions import round\n",
        "df_rounded = df.withColumn(\"rounded_salary\", round(col(\"salary\"), 0))\n",
        "df_rounded.show()"
      ],
      "metadata": {
        "colab": {
          "base_uri": "https://localhost:8080/"
        },
        "id": "XcqGk4BCTUxH",
        "outputId": "ba84f5b4-f008-4fc3-e79e-c06f70311d64"
      },
      "execution_count": 23,
      "outputs": [
        {
          "output_type": "stream",
          "name": "stdout",
          "text": [
            "+---+-------------+----------+---+-------+--------------+\n",
            "| id|         name|       dob|age| salary|rounded_salary|\n",
            "+---+-------------+----------+---+-------+--------------+\n",
            "|  1|   Anuj Yadav|2024-08-01| 23| 1000.5|        1001.0|\n",
            "|  2|Alina Pradhan|2024-08-02| 34|2000.75|        2001.0|\n",
            "|  3|   Jake White|2024-08-03| 18| 3000.1|        3000.0|\n",
            "|  4|   Jill Black|2024-08-04| 45|4000.25|        4000.0|\n",
            "|  5|  James Brown|2024-08-05| 29| 1500.3|        1500.0|\n",
            "|  6|Madhav Mishra|2024-08-06| 31|2500.45|        2500.0|\n",
            "|  7|     John Doe|2024-08-07| 20| 1100.5|        1101.0|\n",
            "|  8|   Jane Smith|2024-08-08| 30|2200.75|        2201.0|\n",
            "+---+-------------+----------+---+-------+--------------+\n",
            "\n"
          ]
        }
      ]
    },
    {
      "cell_type": "code",
      "source": [
        "#date_format\n",
        "from pyspark.sql.functions import date_format\n",
        "\n",
        "df_date_format = df.withColumn(\"formatted_dob\", date_format(col(\"dob\"), \"MM/dd/yyyy\"))\n",
        "df_date_format.show()"
      ],
      "metadata": {
        "colab": {
          "base_uri": "https://localhost:8080/"
        },
        "id": "w1pKxMedTa0H",
        "outputId": "28ad9eae-befc-43c1-f113-516469a322b0"
      },
      "execution_count": 24,
      "outputs": [
        {
          "output_type": "stream",
          "name": "stdout",
          "text": [
            "+---+-------------+----------+---+-------+-------------+\n",
            "| id|         name|       dob|age| salary|formatted_dob|\n",
            "+---+-------------+----------+---+-------+-------------+\n",
            "|  1|   Anuj Yadav|2024-08-01| 23| 1000.5|   08/01/2024|\n",
            "|  2|Alina Pradhan|2024-08-02| 34|2000.75|   08/02/2024|\n",
            "|  3|   Jake White|2024-08-03| 18| 3000.1|   08/03/2024|\n",
            "|  4|   Jill Black|2024-08-04| 45|4000.25|   08/04/2024|\n",
            "|  5|  James Brown|2024-08-05| 29| 1500.3|   08/05/2024|\n",
            "|  6|Madhav Mishra|2024-08-06| 31|2500.45|   08/06/2024|\n",
            "|  7|     John Doe|2024-08-07| 20| 1100.5|   08/07/2024|\n",
            "|  8|   Jane Smith|2024-08-08| 30|2200.75|   08/08/2024|\n",
            "+---+-------------+----------+---+-------+-------------+\n",
            "\n"
          ]
        }
      ]
    },
    {
      "cell_type": "code",
      "source": [
        "#current date\n",
        "#adds the current date to the dataframe\n",
        "\n",
        "from pyspark.sql.functions import current_date\n",
        "df_current_date = df.withColumn(\"current_date\", current_date())\n",
        "df_current_date.show()"
      ],
      "metadata": {
        "colab": {
          "base_uri": "https://localhost:8080/"
        },
        "id": "TwjSGwPZTgh_",
        "outputId": "3f750663-ad94-43e3-fb3b-be57a3225319"
      },
      "execution_count": 25,
      "outputs": [
        {
          "output_type": "stream",
          "name": "stdout",
          "text": [
            "+---+-------------+----------+---+-------+------------+\n",
            "| id|         name|       dob|age| salary|current_date|\n",
            "+---+-------------+----------+---+-------+------------+\n",
            "|  1|   Anuj Yadav|2024-08-01| 23| 1000.5|  2025-08-10|\n",
            "|  2|Alina Pradhan|2024-08-02| 34|2000.75|  2025-08-10|\n",
            "|  3|   Jake White|2024-08-03| 18| 3000.1|  2025-08-10|\n",
            "|  4|   Jill Black|2024-08-04| 45|4000.25|  2025-08-10|\n",
            "|  5|  James Brown|2024-08-05| 29| 1500.3|  2025-08-10|\n",
            "|  6|Madhav Mishra|2024-08-06| 31|2500.45|  2025-08-10|\n",
            "|  7|     John Doe|2024-08-07| 20| 1100.5|  2025-08-10|\n",
            "|  8|   Jane Smith|2024-08-08| 30|2200.75|  2025-08-10|\n",
            "+---+-------------+----------+---+-------+------------+\n",
            "\n"
          ]
        }
      ]
    },
    {
      "cell_type": "code",
      "source": [
        "#current_timestamp\n",
        "#adds the current timesramp to the dataframe\n",
        "\n",
        "from pyspark.sql.functions import current_timestamp\n",
        "\n",
        "df_current_timestamp = df.withColumn(\"current_timestamp\", current_timestamp())\n",
        "df_current_timestamp.show(truncate=False)"
      ],
      "metadata": {
        "colab": {
          "base_uri": "https://localhost:8080/"
        },
        "id": "2bzzLmVzTtEH",
        "outputId": "2319e1e9-a846-4f8b-c7a0-ecd612289948"
      },
      "execution_count": 26,
      "outputs": [
        {
          "output_type": "stream",
          "name": "stdout",
          "text": [
            "+---+-------------+----------+---+-------+--------------------------+\n",
            "|id |name         |dob       |age|salary |current_timestamp         |\n",
            "+---+-------------+----------+---+-------+--------------------------+\n",
            "|1  |Anuj Yadav   |2024-08-01|23 |1000.5 |2025-08-10 09:01:55.556264|\n",
            "|2  |Alina Pradhan|2024-08-02|34 |2000.75|2025-08-10 09:01:55.556264|\n",
            "|3  |Jake White   |2024-08-03|18 |3000.1 |2025-08-10 09:01:55.556264|\n",
            "|4  |Jill Black   |2024-08-04|45 |4000.25|2025-08-10 09:01:55.556264|\n",
            "|5  |James Brown  |2024-08-05|29 |1500.3 |2025-08-10 09:01:55.556264|\n",
            "|6  |Madhav Mishra|2024-08-06|31 |2500.45|2025-08-10 09:01:55.556264|\n",
            "|7  |John Doe     |2024-08-07|20 |1100.5 |2025-08-10 09:01:55.556264|\n",
            "|8  |Jane Smith   |2024-08-08|30 |2200.75|2025-08-10 09:01:55.556264|\n",
            "+---+-------------+----------+---+-------+--------------------------+\n",
            "\n"
          ]
        }
      ]
    },
    {
      "cell_type": "code",
      "source": [
        "#year,month, days moth\n",
        "from pyspark.sql.functions import year, month, dayofmonth\n",
        "df_year = df.withColumn(\"year\", year(col(\"dob\")))\n",
        "df_year.show()\n",
        "\n",
        "#from pyspark.sql.functions import year, month, dayofmonth\n",
        "\n",
        "#df.withColumn(\"year\", year(col(\"dob\"))).withColumn(\"month\", month(col(\"dob\"))).withColumn(\"day\", dayofmonth(col(\"dob\"))).show()\n"
      ],
      "metadata": {
        "colab": {
          "base_uri": "https://localhost:8080/"
        },
        "id": "O0xmYkf7UVw_",
        "outputId": "db221dff-c877-49fd-8e3f-6a813c069d4f"
      },
      "execution_count": 27,
      "outputs": [
        {
          "output_type": "stream",
          "name": "stdout",
          "text": [
            "+---+-------------+----------+---+-------+----+\n",
            "| id|         name|       dob|age| salary|year|\n",
            "+---+-------------+----------+---+-------+----+\n",
            "|  1|   Anuj Yadav|2024-08-01| 23| 1000.5|2024|\n",
            "|  2|Alina Pradhan|2024-08-02| 34|2000.75|2024|\n",
            "|  3|   Jake White|2024-08-03| 18| 3000.1|2024|\n",
            "|  4|   Jill Black|2024-08-04| 45|4000.25|2024|\n",
            "|  5|  James Brown|2024-08-05| 29| 1500.3|2024|\n",
            "|  6|Madhav Mishra|2024-08-06| 31|2500.45|2024|\n",
            "|  7|     John Doe|2024-08-07| 20| 1100.5|2024|\n",
            "|  8|   Jane Smith|2024-08-08| 30|2200.75|2024|\n",
            "+---+-------------+----------+---+-------+----+\n",
            "\n"
          ]
        }
      ]
    },
    {
      "cell_type": "code",
      "source": [
        "#date_add\n",
        "#adds 10 days to the \"dob\" columns\n",
        "from pyspark.sql.functions import date_add\n",
        "df_date_add = df.withColumn(\"dob_after_10_days\", date_add(col(\"dob\"), 10))\n",
        "df_date_add.show()"
      ],
      "metadata": {
        "id": "X_51l6_dUoRX",
        "colab": {
          "base_uri": "https://localhost:8080/"
        },
        "outputId": "fe63ea4c-634e-4f49-c9cf-b3ca94a8ce09"
      },
      "execution_count": 28,
      "outputs": [
        {
          "output_type": "stream",
          "name": "stdout",
          "text": [
            "+---+-------------+----------+---+-------+-----------------+\n",
            "| id|         name|       dob|age| salary|dob_after_10_days|\n",
            "+---+-------------+----------+---+-------+-----------------+\n",
            "|  1|   Anuj Yadav|2024-08-01| 23| 1000.5|       2024-08-11|\n",
            "|  2|Alina Pradhan|2024-08-02| 34|2000.75|       2024-08-12|\n",
            "|  3|   Jake White|2024-08-03| 18| 3000.1|       2024-08-13|\n",
            "|  4|   Jill Black|2024-08-04| 45|4000.25|       2024-08-14|\n",
            "|  5|  James Brown|2024-08-05| 29| 1500.3|       2024-08-15|\n",
            "|  6|Madhav Mishra|2024-08-06| 31|2500.45|       2024-08-16|\n",
            "|  7|     John Doe|2024-08-07| 20| 1100.5|       2024-08-17|\n",
            "|  8|   Jane Smith|2024-08-08| 30|2200.75|       2024-08-18|\n",
            "+---+-------------+----------+---+-------+-----------------+\n",
            "\n"
          ]
        }
      ]
    },
    {
      "cell_type": "code",
      "source": [
        "#date_sub\n",
        "#subtracts 10 days form the \"dob\" column\n",
        "from pyspark.sql.functions import date_sub\n",
        "df_date_sub = df.withColumn(\"dob_before_10_days\", date_sub(col(\"dob\"), 10))\n",
        "df_date_sub.show()"
      ],
      "metadata": {
        "colab": {
          "base_uri": "https://localhost:8080/"
        },
        "id": "njC74q6kNlxr",
        "outputId": "bc61922b-7d41-444e-fc4c-35cf26588025"
      },
      "execution_count": 29,
      "outputs": [
        {
          "output_type": "stream",
          "name": "stdout",
          "text": [
            "+---+-------------+----------+---+-------+------------------+\n",
            "| id|         name|       dob|age| salary|dob_before_10_days|\n",
            "+---+-------------+----------+---+-------+------------------+\n",
            "|  1|   Anuj Yadav|2024-08-01| 23| 1000.5|        2024-07-22|\n",
            "|  2|Alina Pradhan|2024-08-02| 34|2000.75|        2024-07-23|\n",
            "|  3|   Jake White|2024-08-03| 18| 3000.1|        2024-07-24|\n",
            "|  4|   Jill Black|2024-08-04| 45|4000.25|        2024-07-25|\n",
            "|  5|  James Brown|2024-08-05| 29| 1500.3|        2024-07-26|\n",
            "|  6|Madhav Mishra|2024-08-06| 31|2500.45|        2024-07-27|\n",
            "|  7|     John Doe|2024-08-07| 20| 1100.5|        2024-07-28|\n",
            "|  8|   Jane Smith|2024-08-08| 30|2200.75|        2024-07-29|\n",
            "+---+-------------+----------+---+-------+------------------+\n",
            "\n"
          ]
        }
      ]
    },
    {
      "cell_type": "code",
      "source": [
        "#datediff\n",
        "#Calculates the difference in days between the current date and the \"dob\".\n",
        "\n",
        "from pyspark.sql.functions import datediff\n",
        "\n",
        "df_date_diff = df.withColumn(\"days_since_dob\", datediff(current_date(), col(\"dob\")))\n",
        "df_date_diff.show()"
      ],
      "metadata": {
        "colab": {
          "base_uri": "https://localhost:8080/"
        },
        "id": "ZaQ1oBasN4pN",
        "outputId": "c9cd8dde-4169-46ed-b019-30bdfde0729a"
      },
      "execution_count": 32,
      "outputs": [
        {
          "output_type": "stream",
          "name": "stdout",
          "text": [
            "+---+-------------+----------+---+-------+--------------+\n",
            "| id|         name|       dob|age| salary|days_since_dob|\n",
            "+---+-------------+----------+---+-------+--------------+\n",
            "|  1|   Anuj Yadav|2024-08-01| 23| 1000.5|           374|\n",
            "|  2|Alina Pradhan|2024-08-02| 34|2000.75|           373|\n",
            "|  3|   Jake White|2024-08-03| 18| 3000.1|           372|\n",
            "|  4|   Jill Black|2024-08-04| 45|4000.25|           371|\n",
            "|  5|  James Brown|2024-08-05| 29| 1500.3|           370|\n",
            "|  6|Madhav Mishra|2024-08-06| 31|2500.45|           369|\n",
            "|  7|     John Doe|2024-08-07| 20| 1100.5|           368|\n",
            "|  8|   Jane Smith|2024-08-08| 30|2200.75|           367|\n",
            "+---+-------------+----------+---+-------+--------------+\n",
            "\n"
          ]
        }
      ]
    },
    {
      "cell_type": "code",
      "source": [
        "#to_Date\n",
        "#converst the \"dob\" column from string to date format\n",
        "from pyspark.sql.functions import to_date\n",
        "df_to_date = df.withColumn(\"dob_as_date\", to_date(col(\"dob\"), \"yyyy-MM-dd\"))\n",
        "df_to_date.show()"
      ],
      "metadata": {
        "colab": {
          "base_uri": "https://localhost:8080/"
        },
        "id": "JNKNJsXZOC9j",
        "outputId": "fec275f2-3eb8-49d0-fb68-ecfce84caef2"
      },
      "execution_count": 33,
      "outputs": [
        {
          "output_type": "stream",
          "name": "stdout",
          "text": [
            "+---+-------------+----------+---+-------+-----------+\n",
            "| id|         name|       dob|age| salary|dob_as_date|\n",
            "+---+-------------+----------+---+-------+-----------+\n",
            "|  1|   Anuj Yadav|2024-08-01| 23| 1000.5| 2024-08-01|\n",
            "|  2|Alina Pradhan|2024-08-02| 34|2000.75| 2024-08-02|\n",
            "|  3|   Jake White|2024-08-03| 18| 3000.1| 2024-08-03|\n",
            "|  4|   Jill Black|2024-08-04| 45|4000.25| 2024-08-04|\n",
            "|  5|  James Brown|2024-08-05| 29| 1500.3| 2024-08-05|\n",
            "|  6|Madhav Mishra|2024-08-06| 31|2500.45| 2024-08-06|\n",
            "|  7|     John Doe|2024-08-07| 20| 1100.5| 2024-08-07|\n",
            "|  8|   Jane Smith|2024-08-08| 30|2200.75| 2024-08-08|\n",
            "+---+-------------+----------+---+-------+-----------+\n",
            "\n"
          ]
        }
      ]
    },
    {
      "cell_type": "code",
      "source": [
        "#to_time stamp\n",
        "#concerts the \"dob\" column from string to timestamp format\n",
        "\n",
        "from pyspark.sql.functions import to_timestamp\n",
        "df_to_timestamp = df.withColumn(\"dob_as_timestamp\", to_timestamp(col(\"dob\"), \"yyyy-MM-dd\"))\n",
        "df_to_timestamp.show()"
      ],
      "metadata": {
        "colab": {
          "base_uri": "https://localhost:8080/"
        },
        "id": "rDppDxrWOZ6J",
        "outputId": "9ce0962c-e1e8-4827-d7d1-f06f578c5e02"
      },
      "execution_count": 34,
      "outputs": [
        {
          "output_type": "stream",
          "name": "stdout",
          "text": [
            "+---+-------------+----------+---+-------+-------------------+\n",
            "| id|         name|       dob|age| salary|   dob_as_timestamp|\n",
            "+---+-------------+----------+---+-------+-------------------+\n",
            "|  1|   Anuj Yadav|2024-08-01| 23| 1000.5|2024-08-01 00:00:00|\n",
            "|  2|Alina Pradhan|2024-08-02| 34|2000.75|2024-08-02 00:00:00|\n",
            "|  3|   Jake White|2024-08-03| 18| 3000.1|2024-08-03 00:00:00|\n",
            "|  4|   Jill Black|2024-08-04| 45|4000.25|2024-08-04 00:00:00|\n",
            "|  5|  James Brown|2024-08-05| 29| 1500.3|2024-08-05 00:00:00|\n",
            "|  6|Madhav Mishra|2024-08-06| 31|2500.45|2024-08-06 00:00:00|\n",
            "|  7|     John Doe|2024-08-07| 20| 1100.5|2024-08-07 00:00:00|\n",
            "|  8|   Jane Smith|2024-08-08| 30|2200.75|2024-08-08 00:00:00|\n",
            "+---+-------------+----------+---+-------+-------------------+\n",
            "\n"
          ]
        }
      ]
    },
    {
      "cell_type": "code",
      "source": [
        "from os import truncate\n",
        "#window\n",
        "#aggregrates the salary over a sliding a wonidow of one day\n",
        "\n",
        "from pyspark.sql.functions import window\n",
        "df_window = df.withColumn(\"window\", window(col(\"dob\"), \"1 day\"))\n",
        "df_window.show(truncate = False)\n",
        "\n",
        "\n",
        "#from pyspark.sql.functions import window\n",
        "\n",
        "#df.groupBy(window(col(\"dob\"), \"1 day\")).sum(\"salary\").show(truncate=False)"
      ],
      "metadata": {
        "colab": {
          "base_uri": "https://localhost:8080/"
        },
        "id": "uV3fujxWOkeE",
        "outputId": "8da728c2-401b-4be2-f412-5be2a58bf233"
      },
      "execution_count": 36,
      "outputs": [
        {
          "output_type": "stream",
          "name": "stdout",
          "text": [
            "+---+-------------+----------+---+-------+------------------------------------------+\n",
            "|id |name         |dob       |age|salary |window                                    |\n",
            "+---+-------------+----------+---+-------+------------------------------------------+\n",
            "|1  |Anuj Yadav   |2024-08-01|23 |1000.5 |{2024-08-01 00:00:00, 2024-08-02 00:00:00}|\n",
            "|2  |Alina Pradhan|2024-08-02|34 |2000.75|{2024-08-02 00:00:00, 2024-08-03 00:00:00}|\n",
            "|3  |Jake White   |2024-08-03|18 |3000.1 |{2024-08-03 00:00:00, 2024-08-04 00:00:00}|\n",
            "|4  |Jill Black   |2024-08-04|45 |4000.25|{2024-08-04 00:00:00, 2024-08-05 00:00:00}|\n",
            "|5  |James Brown  |2024-08-05|29 |1500.3 |{2024-08-05 00:00:00, 2024-08-06 00:00:00}|\n",
            "|6  |Madhav Mishra|2024-08-06|31 |2500.45|{2024-08-06 00:00:00, 2024-08-07 00:00:00}|\n",
            "|7  |John Doe     |2024-08-07|20 |1100.5 |{2024-08-07 00:00:00, 2024-08-08 00:00:00}|\n",
            "|8  |Jane Smith   |2024-08-08|30 |2200.75|{2024-08-08 00:00:00, 2024-08-09 00:00:00}|\n",
            "+---+-------------+----------+---+-------+------------------------------------------+\n",
            "\n"
          ]
        }
      ]
    },
    {
      "cell_type": "code",
      "source": [
        "#rank, dense, row_number\n",
        "#applies ranking function to the salry colum\n",
        "from pyspark.sql.window import Window\n",
        "from pyspark.sql.functions import rank, dense_rank, row_number\n",
        "windowSpec = Window.orderBy(col(\"salary\"))\n",
        "df.withColumn(\"rank\", rank().over(windowSpec)).withColumn(\"dense_rank\", dense_rank().over(windowSpec)).withColumn(\"row_number\", row_number().over(windowSpec)).show()\n"
      ],
      "metadata": {
        "colab": {
          "base_uri": "https://localhost:8080/"
        },
        "id": "5F-ispVOOzxn",
        "outputId": "aaf82508-92cb-476a-b759-1785ef9f2630"
      },
      "execution_count": 37,
      "outputs": [
        {
          "output_type": "stream",
          "name": "stdout",
          "text": [
            "+---+-------------+----------+---+-------+----+----------+----------+\n",
            "| id|         name|       dob|age| salary|rank|dense_rank|row_number|\n",
            "+---+-------------+----------+---+-------+----+----------+----------+\n",
            "|  1|   Anuj Yadav|2024-08-01| 23| 1000.5|   1|         1|         1|\n",
            "|  7|     John Doe|2024-08-07| 20| 1100.5|   2|         2|         2|\n",
            "|  5|  James Brown|2024-08-05| 29| 1500.3|   3|         3|         3|\n",
            "|  2|Alina Pradhan|2024-08-02| 34|2000.75|   4|         4|         4|\n",
            "|  8|   Jane Smith|2024-08-08| 30|2200.75|   5|         5|         5|\n",
            "|  6|Madhav Mishra|2024-08-06| 31|2500.45|   6|         6|         6|\n",
            "|  3|   Jake White|2024-08-03| 18| 3000.1|   7|         7|         7|\n",
            "|  4|   Jill Black|2024-08-04| 45|4000.25|   8|         8|         8|\n",
            "+---+-------------+----------+---+-------+----+----------+----------+\n",
            "\n"
          ]
        }
      ]
    },
    {
      "cell_type": "code",
      "source": [
        "#array\n",
        "#creates a new array column\n",
        "from pyspark.sql.functions import array\n",
        "df_array = df.withColumn(\"array_column\", array(col(\"id\"), col(\"age\")))\n",
        "df_array.show()\n",
        ""
      ],
      "metadata": {
        "colab": {
          "base_uri": "https://localhost:8080/"
        },
        "id": "9tQZ30lePMj7",
        "outputId": "1e180004-890d-413f-f440-8f34742519c8"
      },
      "execution_count": 38,
      "outputs": [
        {
          "output_type": "stream",
          "name": "stdout",
          "text": [
            "+---+-------------+----------+---+-------+------------+\n",
            "| id|         name|       dob|age| salary|array_column|\n",
            "+---+-------------+----------+---+-------+------------+\n",
            "|  1|   Anuj Yadav|2024-08-01| 23| 1000.5|     [1, 23]|\n",
            "|  2|Alina Pradhan|2024-08-02| 34|2000.75|     [2, 34]|\n",
            "|  3|   Jake White|2024-08-03| 18| 3000.1|     [3, 18]|\n",
            "|  4|   Jill Black|2024-08-04| 45|4000.25|     [4, 45]|\n",
            "|  5|  James Brown|2024-08-05| 29| 1500.3|     [5, 29]|\n",
            "|  6|Madhav Mishra|2024-08-06| 31|2500.45|     [6, 31]|\n",
            "|  7|     John Doe|2024-08-07| 20| 1100.5|     [7, 20]|\n",
            "|  8|   Jane Smith|2024-08-08| 30|2200.75|     [8, 30]|\n",
            "+---+-------------+----------+---+-------+------------+\n",
            "\n"
          ]
        }
      ]
    },
    {
      "cell_type": "code",
      "source": [
        "#array_contains\n",
        "#Checks if a specified element exists in an array column.\n",
        "\n",
        "from pyspark.sql.functions import array_contains\n",
        "\n",
        "df_array_contains = df.withColumn(\"contains_id_1\", array_contains(array(col(\"id\")), 1))\n",
        "\n",
        "df_array_contains.show()\n"
      ],
      "metadata": {
        "colab": {
          "base_uri": "https://localhost:8080/"
        },
        "id": "_K8R6YnAPa_2",
        "outputId": "66ad27f0-c839-4ede-bebd-c22a1a0b76c0"
      },
      "execution_count": 39,
      "outputs": [
        {
          "output_type": "stream",
          "name": "stdout",
          "text": [
            "+---+-------------+----------+---+-------+-------------+\n",
            "| id|         name|       dob|age| salary|contains_id_1|\n",
            "+---+-------------+----------+---+-------+-------------+\n",
            "|  1|   Anuj Yadav|2024-08-01| 23| 1000.5|         true|\n",
            "|  2|Alina Pradhan|2024-08-02| 34|2000.75|        false|\n",
            "|  3|   Jake White|2024-08-03| 18| 3000.1|        false|\n",
            "|  4|   Jill Black|2024-08-04| 45|4000.25|        false|\n",
            "|  5|  James Brown|2024-08-05| 29| 1500.3|        false|\n",
            "|  6|Madhav Mishra|2024-08-06| 31|2500.45|        false|\n",
            "|  7|     John Doe|2024-08-07| 20| 1100.5|        false|\n",
            "|  8|   Jane Smith|2024-08-08| 30|2200.75|        false|\n",
            "+---+-------------+----------+---+-------+-------------+\n",
            "\n"
          ]
        }
      ]
    },
    {
      "cell_type": "code",
      "source": [
        "#explode\n",
        "#Creates a new row for each element in the given array or map column.\n",
        "\n",
        "from pyspark.sql.functions import explode\n",
        "\n",
        "df_explode = df.withColumn(\"exploded_array\", explode(array(col(\"id\"), col(\"age\"))))\n",
        "df_explode.show()"
      ],
      "metadata": {
        "colab": {
          "base_uri": "https://localhost:8080/"
        },
        "id": "wcI3Rq0LPeY8",
        "outputId": "032d66c2-3e2b-453b-8de2-6f1b66d8176c"
      },
      "execution_count": 40,
      "outputs": [
        {
          "output_type": "stream",
          "name": "stdout",
          "text": [
            "+---+-------------+----------+---+-------+--------------+\n",
            "| id|         name|       dob|age| salary|exploded_array|\n",
            "+---+-------------+----------+---+-------+--------------+\n",
            "|  1|   Anuj Yadav|2024-08-01| 23| 1000.5|             1|\n",
            "|  1|   Anuj Yadav|2024-08-01| 23| 1000.5|            23|\n",
            "|  2|Alina Pradhan|2024-08-02| 34|2000.75|             2|\n",
            "|  2|Alina Pradhan|2024-08-02| 34|2000.75|            34|\n",
            "|  3|   Jake White|2024-08-03| 18| 3000.1|             3|\n",
            "|  3|   Jake White|2024-08-03| 18| 3000.1|            18|\n",
            "|  4|   Jill Black|2024-08-04| 45|4000.25|             4|\n",
            "|  4|   Jill Black|2024-08-04| 45|4000.25|            45|\n",
            "|  5|  James Brown|2024-08-05| 29| 1500.3|             5|\n",
            "|  5|  James Brown|2024-08-05| 29| 1500.3|            29|\n",
            "|  6|Madhav Mishra|2024-08-06| 31|2500.45|             6|\n",
            "|  6|Madhav Mishra|2024-08-06| 31|2500.45|            31|\n",
            "|  7|     John Doe|2024-08-07| 20| 1100.5|             7|\n",
            "|  7|     John Doe|2024-08-07| 20| 1100.5|            20|\n",
            "|  8|   Jane Smith|2024-08-08| 30|2200.75|             8|\n",
            "|  8|   Jane Smith|2024-08-08| 30|2200.75|            30|\n",
            "+---+-------------+----------+---+-------+--------------+\n",
            "\n"
          ]
        }
      ]
    },
    {
      "cell_type": "code",
      "source": [
        "#map\n",
        "#Creates a new map column.\n",
        "\n",
        "\n",
        "from pyspark.sql.functions import create_map\n",
        "\n",
        "df_map = df.withColumn(\"map_column\", create_map(lit(\"name\"), col(\"name\"), lit(\"age\"), col(\"age\")))\n",
        "\n",
        "df_map.show(truncate=False)"
      ],
      "metadata": {
        "colab": {
          "base_uri": "https://localhost:8080/"
        },
        "id": "r_PzWQHHPgQX",
        "outputId": "42c8fa54-4cd4-42ea-f4cc-b7872b5bf202"
      },
      "execution_count": 41,
      "outputs": [
        {
          "output_type": "stream",
          "name": "stdout",
          "text": [
            "+---+-------------+----------+---+-------+----------------------------------+\n",
            "|id |name         |dob       |age|salary |map_column                        |\n",
            "+---+-------------+----------+---+-------+----------------------------------+\n",
            "|1  |Anuj Yadav   |2024-08-01|23 |1000.5 |{name -> Anuj Yadav, age -> 23}   |\n",
            "|2  |Alina Pradhan|2024-08-02|34 |2000.75|{name -> Alina Pradhan, age -> 34}|\n",
            "|3  |Jake White   |2024-08-03|18 |3000.1 |{name -> Jake White, age -> 18}   |\n",
            "|4  |Jill Black   |2024-08-04|45 |4000.25|{name -> Jill Black, age -> 45}   |\n",
            "|5  |James Brown  |2024-08-05|29 |1500.3 |{name -> James Brown, age -> 29}  |\n",
            "|6  |Madhav Mishra|2024-08-06|31 |2500.45|{name -> Madhav Mishra, age -> 31}|\n",
            "|7  |John Doe     |2024-08-07|20 |1100.5 |{name -> John Doe, age -> 20}     |\n",
            "|8  |Jane Smith   |2024-08-08|30 |2200.75|{name -> Jane Smith, age -> 30}   |\n",
            "+---+-------------+----------+---+-------+----------------------------------+\n",
            "\n"
          ]
        }
      ]
    },
    {
      "cell_type": "code",
      "source": [
        "#coalesce\n",
        "#Returns the first non-null value among the given columns.\n",
        "\n",
        "from pyspark.sql.functions import coalesce\n",
        "\n",
        "df_coalesce = df.withColumn(\"coalesced_value\", coalesce(col(\"name\"), col(\"age\")))\n",
        "df_coalesce.show()"
      ],
      "metadata": {
        "colab": {
          "base_uri": "https://localhost:8080/"
        },
        "id": "2PsOMZJZPkd_",
        "outputId": "0760dca0-1e29-494a-c238-618da287480d"
      },
      "execution_count": 42,
      "outputs": [
        {
          "output_type": "stream",
          "name": "stdout",
          "text": [
            "+---+-------------+----------+---+-------+---------------+\n",
            "| id|         name|       dob|age| salary|coalesced_value|\n",
            "+---+-------------+----------+---+-------+---------------+\n",
            "|  1|   Anuj Yadav|2024-08-01| 23| 1000.5|     Anuj Yadav|\n",
            "|  2|Alina Pradhan|2024-08-02| 34|2000.75|  Alina Pradhan|\n",
            "|  3|   Jake White|2024-08-03| 18| 3000.1|     Jake White|\n",
            "|  4|   Jill Black|2024-08-04| 45|4000.25|     Jill Black|\n",
            "|  5|  James Brown|2024-08-05| 29| 1500.3|    James Brown|\n",
            "|  6|Madhav Mishra|2024-08-06| 31|2500.45|  Madhav Mishra|\n",
            "|  7|     John Doe|2024-08-07| 20| 1100.5|       John Doe|\n",
            "|  8|   Jane Smith|2024-08-08| 30|2200.75|     Jane Smith|\n",
            "+---+-------------+----------+---+-------+---------------+\n",
            "\n"
          ]
        }
      ]
    },
    {
      "cell_type": "code",
      "source": [
        "#isnull\n",
        "#Checks if the column is null.\n",
        "\n",
        "from pyspark.sql.functions import isnull\n",
        "\n",
        "df_isnull = df.withColumn(\"is_name_null\", isnull(col(\"name\")))\n",
        "df_isnull.show()"
      ],
      "metadata": {
        "colab": {
          "base_uri": "https://localhost:8080/"
        },
        "id": "gggnyFeOPnGg",
        "outputId": "0905f509-e120-40d3-fe59-6b07e5a1ca6a"
      },
      "execution_count": 43,
      "outputs": [
        {
          "output_type": "stream",
          "name": "stdout",
          "text": [
            "+---+-------------+----------+---+-------+------------+\n",
            "| id|         name|       dob|age| salary|is_name_null|\n",
            "+---+-------------+----------+---+-------+------------+\n",
            "|  1|   Anuj Yadav|2024-08-01| 23| 1000.5|       false|\n",
            "|  2|Alina Pradhan|2024-08-02| 34|2000.75|       false|\n",
            "|  3|   Jake White|2024-08-03| 18| 3000.1|       false|\n",
            "|  4|   Jill Black|2024-08-04| 45|4000.25|       false|\n",
            "|  5|  James Brown|2024-08-05| 29| 1500.3|       false|\n",
            "|  6|Madhav Mishra|2024-08-06| 31|2500.45|       false|\n",
            "|  7|     John Doe|2024-08-07| 20| 1100.5|       false|\n",
            "|  8|   Jane Smith|2024-08-08| 30|2200.75|       false|\n",
            "+---+-------------+----------+---+-------+------------+\n",
            "\n"
          ]
        }
      ]
    },
    {
      "cell_type": "code",
      "source": [
        "#isnan\n",
        "#Checks if the column is NaN.\n",
        "\n",
        "from pyspark.sql.functions import isnan\n",
        "\n",
        "df_isnan = df.withColumn(\"is_age_nan\", isnan(col(\"age\")))\n",
        "df_isnan.show()"
      ],
      "metadata": {
        "colab": {
          "base_uri": "https://localhost:8080/"
        },
        "id": "nSAxjIUbPsku",
        "outputId": "9dee7aa4-97cb-42b0-bcc1-5678c09db520"
      },
      "execution_count": 44,
      "outputs": [
        {
          "output_type": "stream",
          "name": "stdout",
          "text": [
            "+---+-------------+----------+---+-------+----------+\n",
            "| id|         name|       dob|age| salary|is_age_nan|\n",
            "+---+-------------+----------+---+-------+----------+\n",
            "|  1|   Anuj Yadav|2024-08-01| 23| 1000.5|     false|\n",
            "|  2|Alina Pradhan|2024-08-02| 34|2000.75|     false|\n",
            "|  3|   Jake White|2024-08-03| 18| 3000.1|     false|\n",
            "|  4|   Jill Black|2024-08-04| 45|4000.25|     false|\n",
            "|  5|  James Brown|2024-08-05| 29| 1500.3|     false|\n",
            "|  6|Madhav Mishra|2024-08-06| 31|2500.45|     false|\n",
            "|  7|     John Doe|2024-08-07| 20| 1100.5|     false|\n",
            "|  8|   Jane Smith|2024-08-08| 30|2200.75|     false|\n",
            "+---+-------------+----------+---+-------+----------+\n",
            "\n"
          ]
        }
      ]
    },
    {
      "cell_type": "code",
      "source": [
        "#sha2\n",
        "#Applies the SHA-2 hash function to the column.\n",
        "\n",
        "from pyspark.sql.functions import sha2\n",
        "\n",
        "df_sha2 = df.withColumn(\"sha2_hash\", sha2(col(\"name\"), 256))\n",
        "df_sha2.show(truncate=False)\n",
        ""
      ],
      "metadata": {
        "colab": {
          "base_uri": "https://localhost:8080/"
        },
        "id": "SvOyVbWjPvLQ",
        "outputId": "b8c024b4-c6ca-4d94-916e-d711b079d898"
      },
      "execution_count": 45,
      "outputs": [
        {
          "output_type": "stream",
          "name": "stdout",
          "text": [
            "+---+-------------+----------+---+-------+----------------------------------------------------------------+\n",
            "|id |name         |dob       |age|salary |sha2_hash                                                       |\n",
            "+---+-------------+----------+---+-------+----------------------------------------------------------------+\n",
            "|1  |Anuj Yadav   |2024-08-01|23 |1000.5 |803ce8929027e0dc4527094db0c7942815b2ba7e525ace272edd0cdd4d61c50c|\n",
            "|2  |Alina Pradhan|2024-08-02|34 |2000.75|1c0ebcf1a61f95076a6f2c07f41c817ab239d4ddfbc719f64281917732a318ee|\n",
            "|3  |Jake White   |2024-08-03|18 |3000.1 |46dae60ac51d1dfbb195b62ca2a6c4fd76f0d0ef5e32ee32a3b9987bc30251ef|\n",
            "|4  |Jill Black   |2024-08-04|45 |4000.25|7db233fa461a23bfe24e0c1b5f0cd82e8750969c1e9c4450761cf800425caba7|\n",
            "|5  |James Brown  |2024-08-05|29 |1500.3 |b3d60509901a9912f651bac21d52c7ddffc9bc8620f5052fbddd39e3c59f84b0|\n",
            "|6  |Madhav Mishra|2024-08-06|31 |2500.45|4cdec17dacd6ffe870947ac1cb6d10901adf819458055ab02df4a3540dd3f477|\n",
            "|7  |John Doe     |2024-08-07|20 |1100.5 |6cea57c2fb6cbc2a40411135005760f241fffc3e5e67ab99882726431037f908|\n",
            "|8  |Jane Smith   |2024-08-08|30 |2200.75|a2dd3acadb1c9dcd956216993056a7f50a9db6e3a16c60b35482139b5349c288|\n",
            "+---+-------------+----------+---+-------+----------------------------------------------------------------+\n",
            "\n"
          ]
        }
      ]
    },
    {
      "cell_type": "code",
      "source": [
        "#md5\n",
        "#Calculates the MD5 hash of a column.\n",
        "\n",
        "from pyspark.sql.functions import md5\n",
        "\n",
        "df_md5 = df.withColumn(\"md5_hash\", md5(col(\"name\")))\n",
        "df_md5.show(truncate=False)\n"
      ],
      "metadata": {
        "colab": {
          "base_uri": "https://localhost:8080/"
        },
        "id": "4ZYsYB44PxjF",
        "outputId": "9a69bbde-8462-488c-8e9e-8b403d6cb258"
      },
      "execution_count": 46,
      "outputs": [
        {
          "output_type": "stream",
          "name": "stdout",
          "text": [
            "+---+-------------+----------+---+-------+--------------------------------+\n",
            "|id |name         |dob       |age|salary |md5_hash                        |\n",
            "+---+-------------+----------+---+-------+--------------------------------+\n",
            "|1  |Anuj Yadav   |2024-08-01|23 |1000.5 |ca153ed55cbdacb54da3736335da7cb3|\n",
            "|2  |Alina Pradhan|2024-08-02|34 |2000.75|057b5e6c8de5860bb4920ddcf2756182|\n",
            "|3  |Jake White   |2024-08-03|18 |3000.1 |3ee9984296bc94702c3fa0b750b928fb|\n",
            "|4  |Jill Black   |2024-08-04|45 |4000.25|78b82745b366583ae84dde2d90114901|\n",
            "|5  |James Brown  |2024-08-05|29 |1500.3 |8495e8e406d3d625719ae2a9fb8d2f9b|\n",
            "|6  |Madhav Mishra|2024-08-06|31 |2500.45|80d7e488885a319a5fb5ea29fe6b526b|\n",
            "|7  |John Doe     |2024-08-07|20 |1100.5 |4c2a904bafba06591225113ad17b5cec|\n",
            "|8  |Jane Smith   |2024-08-08|30 |2200.75|71768b5e2a0b3697eb3c0c6d4ebbbaf8|\n",
            "+---+-------------+----------+---+-------+--------------------------------+\n",
            "\n"
          ]
        }
      ]
    },
    {
      "cell_type": "code",
      "source": [
        "#monotonically_increasing_id\n",
        "#Generates a unique, monotonically increasing 64-bit integer for each row.\n",
        "\n",
        "from pyspark.sql.functions import monotonically_increasing_id\n",
        "\n",
        "df_monotonically_increasing_id = df.withColumn(\"monotonically_increasing_id\", monotonically_increasing_id())\n",
        "df_monotonically_increasing_id.show()"
      ],
      "metadata": {
        "colab": {
          "base_uri": "https://localhost:8080/"
        },
        "id": "k__QFl5nP0AK",
        "outputId": "73ed0625-9a6f-4ee2-ceca-aa509feab282"
      },
      "execution_count": 47,
      "outputs": [
        {
          "output_type": "stream",
          "name": "stdout",
          "text": [
            "+---+-------------+----------+---+-------+---------------------------+\n",
            "| id|         name|       dob|age| salary|monotonically_increasing_id|\n",
            "+---+-------------+----------+---+-------+---------------------------+\n",
            "|  1|   Anuj Yadav|2024-08-01| 23| 1000.5|                          0|\n",
            "|  2|Alina Pradhan|2024-08-02| 34|2000.75|                          1|\n",
            "|  3|   Jake White|2024-08-03| 18| 3000.1|                          2|\n",
            "|  4|   Jill Black|2024-08-04| 45|4000.25|                          3|\n",
            "|  5|  James Brown|2024-08-05| 29| 1500.3|                 8589934592|\n",
            "|  6|Madhav Mishra|2024-08-06| 31|2500.45|                 8589934593|\n",
            "|  7|     John Doe|2024-08-07| 20| 1100.5|                 8589934594|\n",
            "|  8|   Jane Smith|2024-08-08| 30|2200.75|                 8589934595|\n",
            "+---+-------------+----------+---+-------+---------------------------+\n",
            "\n"
          ]
        }
      ]
    },
    {
      "cell_type": "code",
      "source": [
        "#length\n",
        "#Returns the length of a string column.\n",
        "\n",
        "from pyspark.sql.functions import length\n",
        "\n",
        "df_length = df.withColumn(\"name_length\", length(col(\"name\")))\n",
        "df_length.show()"
      ],
      "metadata": {
        "colab": {
          "base_uri": "https://localhost:8080/"
        },
        "id": "xTBNrOxCP2Zp",
        "outputId": "343b75f2-3fa9-413e-a57a-1ce1bcfdbc35"
      },
      "execution_count": 48,
      "outputs": [
        {
          "output_type": "stream",
          "name": "stdout",
          "text": [
            "+---+-------------+----------+---+-------+-----------+\n",
            "| id|         name|       dob|age| salary|name_length|\n",
            "+---+-------------+----------+---+-------+-----------+\n",
            "|  1|   Anuj Yadav|2024-08-01| 23| 1000.5|         10|\n",
            "|  2|Alina Pradhan|2024-08-02| 34|2000.75|         13|\n",
            "|  3|   Jake White|2024-08-03| 18| 3000.1|         10|\n",
            "|  4|   Jill Black|2024-08-04| 45|4000.25|         10|\n",
            "|  5|  James Brown|2024-08-05| 29| 1500.3|         11|\n",
            "|  6|Madhav Mishra|2024-08-06| 31|2500.45|         13|\n",
            "|  7|     John Doe|2024-08-07| 20| 1100.5|          8|\n",
            "|  8|   Jane Smith|2024-08-08| 30|2200.75|         10|\n",
            "+---+-------------+----------+---+-------+-----------+\n",
            "\n"
          ]
        }
      ]
    },
    {
      "cell_type": "code",
      "source": [
        "#upper and lower\n",
        "#Converts all characters of a string column to upper or lower case.\n",
        "\n",
        "from pyspark.sql.functions import upper, lower\n",
        "\n",
        "#df_upper = df.withColumn(\"upper_name\", upper(col(\"name\")))\n",
        "#df_upper.show()\n",
        "\n",
        "\n",
        "from pyspark.sql.functions import upper, lower\n",
        "\n",
        "df_upper_lower = df.withColumn(\"name_upper\", upper(col(\"name\"))).withColumn(\"name_lower\", lower(col(\"name\")))\n",
        "df_upper_lower.show()\n"
      ],
      "metadata": {
        "colab": {
          "base_uri": "https://localhost:8080/"
        },
        "id": "7jqavg0gP6xq",
        "outputId": "4de5f442-6c33-49ab-dfb8-705606cc75af"
      },
      "execution_count": 49,
      "outputs": [
        {
          "output_type": "stream",
          "name": "stdout",
          "text": [
            "+---+-------------+----------+---+-------+-------------+-------------+\n",
            "| id|         name|       dob|age| salary|   name_upper|   name_lower|\n",
            "+---+-------------+----------+---+-------+-------------+-------------+\n",
            "|  1|   Anuj Yadav|2024-08-01| 23| 1000.5|   ANUJ YADAV|   anuj yadav|\n",
            "|  2|Alina Pradhan|2024-08-02| 34|2000.75|ALINA PRADHAN|alina pradhan|\n",
            "|  3|   Jake White|2024-08-03| 18| 3000.1|   JAKE WHITE|   jake white|\n",
            "|  4|   Jill Black|2024-08-04| 45|4000.25|   JILL BLACK|   jill black|\n",
            "|  5|  James Brown|2024-08-05| 29| 1500.3|  JAMES BROWN|  james brown|\n",
            "|  6|Madhav Mishra|2024-08-06| 31|2500.45|MADHAV MISHRA|madhav mishra|\n",
            "|  7|     John Doe|2024-08-07| 20| 1100.5|     JOHN DOE|     john doe|\n",
            "|  8|   Jane Smith|2024-08-08| 30|2200.75|   JANE SMITH|   jane smith|\n",
            "+---+-------------+----------+---+-------+-------------+-------------+\n",
            "\n"
          ]
        }
      ]
    },
    {
      "cell_type": "code",
      "source": [
        "#Trims spaces from both sides, left side, or right side of a string column.\n",
        "\n",
        "from pyspark.sql.functions import trim, ltrim, rtrim\n",
        "\"\"\"\n",
        "df_trim = df.withColumn(\"trimmed_name\", trim(col(\"name\")))\n",
        "df_trim.show()\n",
        "\n",
        "df_ltrim = df.withColumn(\"ltrimmed_name\", ltrim(col(\"name\")))\n",
        "df_ltrim.show()\n",
        "\n",
        "df_rtrim = df.withColumn(\"rtrimmed_name\", rtrim(col(\"name\")))\n",
        "df_rtrim.show()\n",
        "\"\"\"\n",
        "\n",
        "\n",
        "from pyspark.sql.functions import trim, ltrim, rtrim\n",
        "\n",
        "df_all = df.withColumn(\"name_trimmed\", trim(col(\"name\"))).withColumn(\"name_ltrimmed\", ltrim(col(\"name\"))).withColumn(\"name_rtrimmed\", rtrim(col(\"name\")))\n",
        "df_all.show()"
      ],
      "metadata": {
        "colab": {
          "base_uri": "https://localhost:8080/"
        },
        "id": "UXbNsn2wP9tb",
        "outputId": "f98ba51e-f2b6-4b41-d28f-dfe010545554"
      },
      "execution_count": 50,
      "outputs": [
        {
          "output_type": "stream",
          "name": "stdout",
          "text": [
            "+---+-------------+----------+---+-------+-------------+-------------+-------------+\n",
            "| id|         name|       dob|age| salary| name_trimmed|name_ltrimmed|name_rtrimmed|\n",
            "+---+-------------+----------+---+-------+-------------+-------------+-------------+\n",
            "|  1|   Anuj Yadav|2024-08-01| 23| 1000.5|   Anuj Yadav|   Anuj Yadav|   Anuj Yadav|\n",
            "|  2|Alina Pradhan|2024-08-02| 34|2000.75|Alina Pradhan|Alina Pradhan|Alina Pradhan|\n",
            "|  3|   Jake White|2024-08-03| 18| 3000.1|   Jake White|   Jake White|   Jake White|\n",
            "|  4|   Jill Black|2024-08-04| 45|4000.25|   Jill Black|   Jill Black|   Jill Black|\n",
            "|  5|  James Brown|2024-08-05| 29| 1500.3|  James Brown|  James Brown|  James Brown|\n",
            "|  6|Madhav Mishra|2024-08-06| 31|2500.45|Madhav Mishra|Madhav Mishra|Madhav Mishra|\n",
            "|  7|     John Doe|2024-08-07| 20| 1100.5|     John Doe|     John Doe|     John Doe|\n",
            "|  8|   Jane Smith|2024-08-08| 30|2200.75|   Jane Smith|   Jane Smith|   Jane Smith|\n",
            "+---+-------------+----------+---+-------+-------------+-------------+-------------+\n",
            "\n"
          ]
        }
      ]
    },
    {
      "cell_type": "code",
      "source": [
        "\n",
        "#abs\n",
        "#Returns the absolute value of a numeric column.\n",
        "\n",
        "from pyspark.sql.functions import abs\n",
        "\n",
        "#df_abs = df.withColumn(\"absolute_age\", abs(col(\"age\")))\n",
        "#df_abs.show()\n",
        "\n",
        "from pyspark.sql.functions import abs\n",
        "\n",
        "df_abs = df.withColumn(\"abs_salary\", abs(col(\"salary\") - 3000))\n",
        "df_abs.show()"
      ],
      "metadata": {
        "colab": {
          "base_uri": "https://localhost:8080/"
        },
        "id": "1UqWRZ7LQFkE",
        "outputId": "80be5ad0-c8aa-4771-955c-54cdcfddc4c9"
      },
      "execution_count": 51,
      "outputs": [
        {
          "output_type": "stream",
          "name": "stdout",
          "text": [
            "+---+-------------+----------+---+-------+-------------------+\n",
            "| id|         name|       dob|age| salary|         abs_salary|\n",
            "+---+-------------+----------+---+-------+-------------------+\n",
            "|  1|   Anuj Yadav|2024-08-01| 23| 1000.5|             1999.5|\n",
            "|  2|Alina Pradhan|2024-08-02| 34|2000.75|             999.25|\n",
            "|  3|   Jake White|2024-08-03| 18| 3000.1|0.09999999999990905|\n",
            "|  4|   Jill Black|2024-08-04| 45|4000.25|            1000.25|\n",
            "|  5|  James Brown|2024-08-05| 29| 1500.3|             1499.7|\n",
            "|  6|Madhav Mishra|2024-08-06| 31|2500.45|  499.5500000000002|\n",
            "|  7|     John Doe|2024-08-07| 20| 1100.5|             1899.5|\n",
            "|  8|   Jane Smith|2024-08-08| 30|2200.75|             799.25|\n",
            "+---+-------------+----------+---+-------+-------------------+\n",
            "\n"
          ]
        }
      ]
    },
    {
      "cell_type": "code",
      "source": [
        "#sqrt\n",
        "#Returns the square root of a numeric column.\n",
        "\n",
        "from pyspark.sql.functions import sqrt\n",
        "\n",
        "df_sqrt = df.withColumn(\"sqrt_age\", sqrt(col(\"age\")))\n",
        "df_sqrt.show()\n",
        "\n",
        ""
      ],
      "metadata": {
        "colab": {
          "base_uri": "https://localhost:8080/"
        },
        "id": "iswVZKckQJha",
        "outputId": "bd3d8d23-c2c1-49b3-e02f-f3f311d37f47"
      },
      "execution_count": 52,
      "outputs": [
        {
          "output_type": "stream",
          "name": "stdout",
          "text": [
            "+---+-------------+----------+---+-------+------------------+\n",
            "| id|         name|       dob|age| salary|          sqrt_age|\n",
            "+---+-------------+----------+---+-------+------------------+\n",
            "|  1|   Anuj Yadav|2024-08-01| 23| 1000.5| 4.795831523312719|\n",
            "|  2|Alina Pradhan|2024-08-02| 34|2000.75| 5.830951894845301|\n",
            "|  3|   Jake White|2024-08-03| 18| 3000.1| 4.242640687119285|\n",
            "|  4|   Jill Black|2024-08-04| 45|4000.25| 6.708203932499369|\n",
            "|  5|  James Brown|2024-08-05| 29| 1500.3| 5.385164807134504|\n",
            "|  6|Madhav Mishra|2024-08-06| 31|2500.45|5.5677643628300215|\n",
            "|  7|     John Doe|2024-08-07| 20| 1100.5|  4.47213595499958|\n",
            "|  8|   Jane Smith|2024-08-08| 30|2200.75| 5.477225575051661|\n",
            "+---+-------------+----------+---+-------+------------------+\n",
            "\n"
          ]
        }
      ]
    },
    {
      "cell_type": "code",
      "source": [
        "#exp\n",
        "#Computes the exponential of the given column.\n",
        "\n",
        "from pyspark.sql.functions import exp\n",
        "\n",
        "#df_exp = df.withColumn(\"exp_salary\", exp(col(\"salary\")))\n",
        "#df_exp.show()\n",
        "\n",
        "from pyspark.sql.functions import exp\n",
        "\n",
        "df_exp= df.withColumn(\"exp_age\", exp(col(\"age\")))\n",
        "df_exp.show()"
      ],
      "metadata": {
        "colab": {
          "base_uri": "https://localhost:8080/"
        },
        "id": "nU1pwlt0QLFS",
        "outputId": "d1f262c8-5277-474b-d93f-732c91001350"
      },
      "execution_count": 53,
      "outputs": [
        {
          "output_type": "stream",
          "name": "stdout",
          "text": [
            "+---+-------------+----------+---+-------+--------------------+\n",
            "| id|         name|       dob|age| salary|             exp_age|\n",
            "+---+-------------+----------+---+-------+--------------------+\n",
            "|  1|   Anuj Yadav|2024-08-01| 23| 1000.5| 9.744803446248903E9|\n",
            "|  2|Alina Pradhan|2024-08-02| 34|2000.75|5.834617425274549E14|\n",
            "|  3|   Jake White|2024-08-03| 18| 3000.1| 6.565996913733051E7|\n",
            "|  4|   Jill Black|2024-08-04| 45|4000.25|3.493427105748509...|\n",
            "|  5|  James Brown|2024-08-05| 29| 1500.3|3.931334297144042E12|\n",
            "|  6|Madhav Mishra|2024-08-06| 31|2500.45|2.904884966524742...|\n",
            "|  7|     John Doe|2024-08-07| 20| 1100.5| 4.851651954097903E8|\n",
            "|  8|   Jane Smith|2024-08-08| 30|2200.75|1.068647458152446...|\n",
            "+---+-------------+----------+---+-------+--------------------+\n",
            "\n"
          ]
        }
      ]
    },
    {
      "cell_type": "code",
      "source": [
        "#log, log10, log2\n",
        "#Computes the logarithm of the column using a base of e, 10, or 2.\n",
        "\n",
        "from pyspark.sql.functions import log, log10, log2\n",
        "\n",
        "#df_log = df.withColumn(\"log_salary\", log(col(\"salary\")))\n",
        "#df_log.show()\n",
        "\n",
        "#df_log = df.withColumn(\"log_salary\", log10(col(\"salary\")))\n",
        "#df_log.show()\n",
        "\n",
        "#df_log = df.withColumn(\"log_salary\", log2(col(\"salary\")))\n",
        "#df_log.show()\n",
        "\n",
        "df_all = df.withColumn(\"log_age\", log(col(\"age\"))).withColumn(\"log10_age\", log10(col(\"age\"))).withColumn(\"log2_age\", log2(col(\"age\")))\n",
        "df_all.show()"
      ],
      "metadata": {
        "colab": {
          "base_uri": "https://localhost:8080/"
        },
        "id": "vguVqc8bQMXK",
        "outputId": "96482dc2-7c94-4b34-f434-01a4461b0605"
      },
      "execution_count": 54,
      "outputs": [
        {
          "output_type": "stream",
          "name": "stdout",
          "text": [
            "+---+-------------+----------+---+-------+------------------+------------------+-----------------+\n",
            "| id|         name|       dob|age| salary|           log_age|         log10_age|         log2_age|\n",
            "+---+-------------+----------+---+-------+------------------+------------------+-----------------+\n",
            "|  1|   Anuj Yadav|2024-08-01| 23| 1000.5|3.1354942159291497|1.3617278360175928|4.523561956057013|\n",
            "|  2|Alina Pradhan|2024-08-02| 34|2000.75|3.5263605246161616|1.5314789170422551| 5.08746284125034|\n",
            "|  3|   Jake White|2024-08-03| 18| 3000.1|2.8903717578961645| 1.255272505103306|4.169925001442312|\n",
            "|  4|   Jill Black|2024-08-04| 45|4000.25|3.8066624897703196|1.6532125137753437|5.491853096329675|\n",
            "|  5|  James Brown|2024-08-05| 29| 1500.3| 3.367295829986474| 1.462397997898956|4.857980995127573|\n",
            "|  6|Madhav Mishra|2024-08-06| 31|2500.45|3.4339872044851463|1.4913616938342726|4.954196310386876|\n",
            "|  7|     John Doe|2024-08-07| 20| 1100.5| 2.995732273553991|1.3010299956639813|4.321928094887363|\n",
            "|  8|   Jane Smith|2024-08-08| 30|2200.75|3.4011973816621555|1.4771212547196624|4.906890595608519|\n",
            "+---+-------------+----------+---+-------+------------------+------------------+-----------------+\n",
            "\n"
          ]
        }
      ]
    },
    {
      "cell_type": "code",
      "source": [
        "\n",
        "#greatest and least\n",
        "#Returns the greatest or least value of the list of columns.\n",
        "\n",
        "from pyspark.sql.functions import greatest, least\n",
        "\n",
        "df_greatest = df.withColumn(\"greatest_value\", greatest(col(\"id\"), col(\"age\")))\n",
        "print(df_greatest.show())\n",
        "\n",
        "df_least = df.withColumn(\"least_value\", least(col(\"id\"), col(\"age\")))\n",
        "print(df_least.show())\n",
        "\n",
        "#df_all = df.withColumn(\"max_value\", greatest(col(\"age\"), col(\"salary\"))).withColumn(\"min_value\", least(col(\"age\"), col(\"salary\")))\n",
        "#df_all.show()\n"
      ],
      "metadata": {
        "colab": {
          "base_uri": "https://localhost:8080/"
        },
        "id": "zQvlXFAnQNwo",
        "outputId": "df9abd27-47cd-4fae-d256-e1640899228b"
      },
      "execution_count": 55,
      "outputs": [
        {
          "output_type": "stream",
          "name": "stdout",
          "text": [
            "+---+-------------+----------+---+-------+--------------+\n",
            "| id|         name|       dob|age| salary|greatest_value|\n",
            "+---+-------------+----------+---+-------+--------------+\n",
            "|  1|   Anuj Yadav|2024-08-01| 23| 1000.5|            23|\n",
            "|  2|Alina Pradhan|2024-08-02| 34|2000.75|            34|\n",
            "|  3|   Jake White|2024-08-03| 18| 3000.1|            18|\n",
            "|  4|   Jill Black|2024-08-04| 45|4000.25|            45|\n",
            "|  5|  James Brown|2024-08-05| 29| 1500.3|            29|\n",
            "|  6|Madhav Mishra|2024-08-06| 31|2500.45|            31|\n",
            "|  7|     John Doe|2024-08-07| 20| 1100.5|            20|\n",
            "|  8|   Jane Smith|2024-08-08| 30|2200.75|            30|\n",
            "+---+-------------+----------+---+-------+--------------+\n",
            "\n",
            "None\n",
            "+---+-------------+----------+---+-------+-----------+\n",
            "| id|         name|       dob|age| salary|least_value|\n",
            "+---+-------------+----------+---+-------+-----------+\n",
            "|  1|   Anuj Yadav|2024-08-01| 23| 1000.5|          1|\n",
            "|  2|Alina Pradhan|2024-08-02| 34|2000.75|          2|\n",
            "|  3|   Jake White|2024-08-03| 18| 3000.1|          3|\n",
            "|  4|   Jill Black|2024-08-04| 45|4000.25|          4|\n",
            "|  5|  James Brown|2024-08-05| 29| 1500.3|          5|\n",
            "|  6|Madhav Mishra|2024-08-06| 31|2500.45|          6|\n",
            "|  7|     John Doe|2024-08-07| 20| 1100.5|          7|\n",
            "|  8|   Jane Smith|2024-08-08| 30|2200.75|          8|\n",
            "+---+-------------+----------+---+-------+-----------+\n",
            "\n",
            "None\n"
          ]
        }
      ]
    },
    {
      "cell_type": "code",
      "source": [
        "#pow\n",
        "#Raises the value of a column to the power of another column.\n",
        "\n",
        "from pyspark.sql.functions import pow\n",
        "\n",
        "df_pow = df.withColumn(\"pow_result\", pow(col(\"id\"), col(\"age\")))\n",
        "df_pow.show(truncate=False)"
      ],
      "metadata": {
        "colab": {
          "base_uri": "https://localhost:8080/"
        },
        "id": "vMmjb9e4QPls",
        "outputId": "63dfd37f-4764-4a14-da02-427e0d044f98"
      },
      "execution_count": 56,
      "outputs": [
        {
          "output_type": "stream",
          "name": "stdout",
          "text": [
            "+---+-------------+----------+---+-------+---------------------+\n",
            "|id |name         |dob       |age|salary |pow_result           |\n",
            "+---+-------------+----------+---+-------+---------------------+\n",
            "|1  |Anuj Yadav   |2024-08-01|23 |1000.5 |1.0                  |\n",
            "|2  |Alina Pradhan|2024-08-02|34 |2000.75|1.7179869184E10      |\n",
            "|3  |Jake White   |2024-08-03|18 |3000.1 |3.87420489E8         |\n",
            "|4  |Jill Black   |2024-08-04|45 |4000.25|1.2379400392853803E27|\n",
            "|5  |James Brown  |2024-08-05|29 |1500.3 |1.8626451492309572E20|\n",
            "|6  |Madhav Mishra|2024-08-06|31 |2500.45|1.3264435183244001E24|\n",
            "|7  |John Doe     |2024-08-07|20 |1100.5 |7.9792266297612E16   |\n",
            "|8  |Jane Smith   |2024-08-08|30 |2200.75|1.2379400392853803E27|\n",
            "+---+-------------+----------+---+-------+---------------------+\n",
            "\n"
          ]
        }
      ]
    },
    {
      "cell_type": "code",
      "source": [
        "\n",
        "\n",
        "#round, bround\n",
        "#Rounds the value of the column to the nearest integer or to the nearest integer with ties broken by rounding away from zero.\n",
        "\n",
        "from pyspark.sql.functions import round, bround\n",
        "\n",
        "df_round = df.withColumn(\"rounded_salary\", round(col(\"salary\"), 0))\n",
        "print(df_round.show())\n",
        "\n",
        "df_bround = df.withColumn(\"brounded_salary\", bround(col(\"salary\"), 0))\n",
        "print(df_bround.show())\n",
        "\n",
        "#df_all = df.withColumn(\"rounded_salary\", round(col(\"salary\"), 0)).withColumn(\"brounded_salary\", bround(col(\"salary\"), 0))\n",
        "#df_all.show()\n"
      ],
      "metadata": {
        "colab": {
          "base_uri": "https://localhost:8080/"
        },
        "id": "bjdbBrlnQSaC",
        "outputId": "83aa83f5-5fd6-4fa4-d6a8-245e76a490c4"
      },
      "execution_count": 57,
      "outputs": [
        {
          "output_type": "stream",
          "name": "stdout",
          "text": [
            "+---+-------------+----------+---+-------+--------------+\n",
            "| id|         name|       dob|age| salary|rounded_salary|\n",
            "+---+-------------+----------+---+-------+--------------+\n",
            "|  1|   Anuj Yadav|2024-08-01| 23| 1000.5|        1001.0|\n",
            "|  2|Alina Pradhan|2024-08-02| 34|2000.75|        2001.0|\n",
            "|  3|   Jake White|2024-08-03| 18| 3000.1|        3000.0|\n",
            "|  4|   Jill Black|2024-08-04| 45|4000.25|        4000.0|\n",
            "|  5|  James Brown|2024-08-05| 29| 1500.3|        1500.0|\n",
            "|  6|Madhav Mishra|2024-08-06| 31|2500.45|        2500.0|\n",
            "|  7|     John Doe|2024-08-07| 20| 1100.5|        1101.0|\n",
            "|  8|   Jane Smith|2024-08-08| 30|2200.75|        2201.0|\n",
            "+---+-------------+----------+---+-------+--------------+\n",
            "\n",
            "None\n",
            "+---+-------------+----------+---+-------+---------------+\n",
            "| id|         name|       dob|age| salary|brounded_salary|\n",
            "+---+-------------+----------+---+-------+---------------+\n",
            "|  1|   Anuj Yadav|2024-08-01| 23| 1000.5|         1000.0|\n",
            "|  2|Alina Pradhan|2024-08-02| 34|2000.75|         2001.0|\n",
            "|  3|   Jake White|2024-08-03| 18| 3000.1|         3000.0|\n",
            "|  4|   Jill Black|2024-08-04| 45|4000.25|         4000.0|\n",
            "|  5|  James Brown|2024-08-05| 29| 1500.3|         1500.0|\n",
            "|  6|Madhav Mishra|2024-08-06| 31|2500.45|         2500.0|\n",
            "|  7|     John Doe|2024-08-07| 20| 1100.5|         1100.0|\n",
            "|  8|   Jane Smith|2024-08-08| 30|2200.75|         2201.0|\n",
            "+---+-------------+----------+---+-------+---------------+\n",
            "\n",
            "None\n"
          ]
        }
      ]
    },
    {
      "cell_type": "code",
      "source": [
        "#degrees, radians\n",
        "#Converts an angle from radians to degrees or from degrees to radians.\n",
        "\n",
        "from pyspark.sql.functions import degrees, radians\n",
        "\n",
        "df_degrees = df.withColumn(\"degrees_value\", degrees(col(\"age\")))\n",
        "print(df_degrees.show())\n",
        "\n",
        "df_radians = df.withColumn(\"radians_value\", radians(col(\"age\")))\n",
        "print(df_radians.show())\n",
        "\n",
        "#df_all = df.withColumn(\"degrees_value\", degrees(col(\"age\"))).withColumn(\"radians_value\", radians(col(\"age\")))\n",
        "#df_all.show()\n"
      ],
      "metadata": {
        "colab": {
          "base_uri": "https://localhost:8080/"
        },
        "id": "WTxEEszyQVjz",
        "outputId": "40820108-7c7e-415e-cd17-cd3cd574e78a"
      },
      "execution_count": 58,
      "outputs": [
        {
          "output_type": "stream",
          "name": "stdout",
          "text": [
            "+---+-------------+----------+---+-------+------------------+\n",
            "| id|         name|       dob|age| salary|     degrees_value|\n",
            "+---+-------------+----------+---+-------+------------------+\n",
            "|  1|   Anuj Yadav|2024-08-01| 23| 1000.5|1317.8029288008934|\n",
            "|  2|Alina Pradhan|2024-08-02| 34|2000.75| 1948.056503444799|\n",
            "|  3|   Jake White|2024-08-03| 18| 3000.1| 1031.324031235482|\n",
            "|  4|   Jill Black|2024-08-04| 45|4000.25|2578.3100780887044|\n",
            "|  5|  James Brown|2024-08-05| 29| 1500.3|1661.5776058793874|\n",
            "|  6|Madhav Mishra|2024-08-06| 31|2500.45| 1776.169164905552|\n",
            "|  7|     John Doe|2024-08-07| 20| 1100.5|1145.9155902616465|\n",
            "|  8|   Jane Smith|2024-08-08| 30|2200.75|1718.8733853924696|\n",
            "+---+-------------+----------+---+-------+------------------+\n",
            "\n",
            "None\n",
            "+---+-------------+----------+---+-------+------------------+\n",
            "| id|         name|       dob|age| salary|     radians_value|\n",
            "+---+-------------+----------+---+-------+------------------+\n",
            "|  1|   Anuj Yadav|2024-08-01| 23| 1000.5|0.4014257279586958|\n",
            "|  2|Alina Pradhan|2024-08-02| 34|2000.75|0.5934119456780721|\n",
            "|  3|   Jake White|2024-08-03| 18| 3000.1|0.3141592653589793|\n",
            "|  4|   Jill Black|2024-08-04| 45|4000.25|0.7853981633974483|\n",
            "|  5|  James Brown|2024-08-05| 29| 1500.3|0.5061454830783556|\n",
            "|  6|Madhav Mishra|2024-08-06| 31|2500.45|0.5410520681182421|\n",
            "|  7|     John Doe|2024-08-07| 20| 1100.5|0.3490658503988659|\n",
            "|  8|   Jane Smith|2024-08-08| 30|2200.75|0.5235987755982988|\n",
            "+---+-------------+----------+---+-------+------------------+\n",
            "\n",
            "None\n"
          ]
        }
      ]
    },
    {
      "cell_type": "code",
      "source": [
        "#signum\n",
        "#Computes the signum of a number: -1 if it's negative, 0 if it's zero, and 1 if it's positive.\n",
        "\n",
        "from pyspark.sql.functions import signum\n",
        "\n",
        "df_signum = df.withColumn(\"signum_value\", signum(col(\"age\")))\n",
        "df_signum.show()"
      ],
      "metadata": {
        "colab": {
          "base_uri": "https://localhost:8080/"
        },
        "id": "GXWADZxkQXP4",
        "outputId": "806e3b55-fdd2-4a36-c973-0d5b8c1f390f"
      },
      "execution_count": 59,
      "outputs": [
        {
          "output_type": "stream",
          "name": "stdout",
          "text": [
            "+---+-------------+----------+---+-------+------------+\n",
            "| id|         name|       dob|age| salary|signum_value|\n",
            "+---+-------------+----------+---+-------+------------+\n",
            "|  1|   Anuj Yadav|2024-08-01| 23| 1000.5|         1.0|\n",
            "|  2|Alina Pradhan|2024-08-02| 34|2000.75|         1.0|\n",
            "|  3|   Jake White|2024-08-03| 18| 3000.1|         1.0|\n",
            "|  4|   Jill Black|2024-08-04| 45|4000.25|         1.0|\n",
            "|  5|  James Brown|2024-08-05| 29| 1500.3|         1.0|\n",
            "|  6|Madhav Mishra|2024-08-06| 31|2500.45|         1.0|\n",
            "|  7|     John Doe|2024-08-07| 20| 1100.5|         1.0|\n",
            "|  8|   Jane Smith|2024-08-08| 30|2200.75|         1.0|\n",
            "+---+-------------+----------+---+-------+------------+\n",
            "\n"
          ]
        }
      ]
    },
    {
      "cell_type": "code",
      "source": [
        "\n",
        "#hex, unhex\n",
        "#Converts a column to hexadecimal and back.\n",
        "\n",
        "from pyspark.sql.functions import hex, unhex\n",
        "\n",
        "# Create the 'hex_value' column within the 'df' DataFrame\n",
        "#df = df.withColumn(\"hex_value\", hex(col(\"age\")))\n",
        "#print(df.show())\n",
        "\n",
        "#df_unhex = df.withColumn(\"unhex_value\", unhex(col(\"hex_value\")))\n",
        "#print(df_unhex.show())\n",
        "\n",
        "from pyspark.sql.functions import hex, unhex\n",
        "\n",
        "df_all= df.withColumn(\"hex_name\", hex(col(\"id\"))).withColumn(\"unhex_name\", unhex(hex(col(\"id\"))))\n",
        "df_all.show()"
      ],
      "metadata": {
        "colab": {
          "base_uri": "https://localhost:8080/"
        },
        "id": "K_aUBR0VQY1r",
        "outputId": "eeab1105-e1b6-4896-bcf9-8b7e0094ca21"
      },
      "execution_count": 60,
      "outputs": [
        {
          "output_type": "stream",
          "name": "stdout",
          "text": [
            "+---+-------------+----------+---+-------+--------+----------+\n",
            "| id|         name|       dob|age| salary|hex_name|unhex_name|\n",
            "+---+-------------+----------+---+-------+--------+----------+\n",
            "|  1|   Anuj Yadav|2024-08-01| 23| 1000.5|       1|      [01]|\n",
            "|  2|Alina Pradhan|2024-08-02| 34|2000.75|       2|      [02]|\n",
            "|  3|   Jake White|2024-08-03| 18| 3000.1|       3|      [03]|\n",
            "|  4|   Jill Black|2024-08-04| 45|4000.25|       4|      [04]|\n",
            "|  5|  James Brown|2024-08-05| 29| 1500.3|       5|      [05]|\n",
            "|  6|Madhav Mishra|2024-08-06| 31|2500.45|       6|      [06]|\n",
            "|  7|     John Doe|2024-08-07| 20| 1100.5|       7|      [07]|\n",
            "|  8|   Jane Smith|2024-08-08| 30|2200.75|       8|      [08]|\n",
            "+---+-------------+----------+---+-------+--------+----------+\n",
            "\n"
          ]
        }
      ]
    },
    {
      "cell_type": "code",
      "source": [
        "\n",
        "#nvl, nvl2\n",
        "#Replaces null values with the specified value.\n",
        "\n",
        "from pyspark.sql.functions import nvl, nvl2, col\n",
        "\n",
        "df_nvl = df.withColumn(\"nvl_age\", nvl(col(\"age\"), col(\"id\"))) # Replace 0 with a column object\n",
        "print(df_nvl.show())\n",
        "\n",
        "df_nvl2 = df.withColumn(\"nvl2_age\", nvl2(col(\"age\"), col(\"id\"), col(\"salary\"))) # Replace 0 and 10 with column objects\n",
        "print(df_nvl2.show())\n",
        "\n",
        "# df_all = df.withColumn(\"nvl_column\", expr(\"nvl(null, 'default')\"))\n",
        "# df_all.show()\n"
      ],
      "metadata": {
        "colab": {
          "base_uri": "https://localhost:8080/"
        },
        "id": "2OVVfU5fQbYp",
        "outputId": "0e35c24c-7003-4db6-9549-db9c66216587"
      },
      "execution_count": 61,
      "outputs": [
        {
          "output_type": "stream",
          "name": "stdout",
          "text": [
            "+---+-------------+----------+---+-------+-------+\n",
            "| id|         name|       dob|age| salary|nvl_age|\n",
            "+---+-------------+----------+---+-------+-------+\n",
            "|  1|   Anuj Yadav|2024-08-01| 23| 1000.5|     23|\n",
            "|  2|Alina Pradhan|2024-08-02| 34|2000.75|     34|\n",
            "|  3|   Jake White|2024-08-03| 18| 3000.1|     18|\n",
            "|  4|   Jill Black|2024-08-04| 45|4000.25|     45|\n",
            "|  5|  James Brown|2024-08-05| 29| 1500.3|     29|\n",
            "|  6|Madhav Mishra|2024-08-06| 31|2500.45|     31|\n",
            "|  7|     John Doe|2024-08-07| 20| 1100.5|     20|\n",
            "|  8|   Jane Smith|2024-08-08| 30|2200.75|     30|\n",
            "+---+-------------+----------+---+-------+-------+\n",
            "\n",
            "None\n",
            "+---+-------------+----------+---+-------+--------+\n",
            "| id|         name|       dob|age| salary|nvl2_age|\n",
            "+---+-------------+----------+---+-------+--------+\n",
            "|  1|   Anuj Yadav|2024-08-01| 23| 1000.5|     1.0|\n",
            "|  2|Alina Pradhan|2024-08-02| 34|2000.75|     2.0|\n",
            "|  3|   Jake White|2024-08-03| 18| 3000.1|     3.0|\n",
            "|  4|   Jill Black|2024-08-04| 45|4000.25|     4.0|\n",
            "|  5|  James Brown|2024-08-05| 29| 1500.3|     5.0|\n",
            "|  6|Madhav Mishra|2024-08-06| 31|2500.45|     6.0|\n",
            "|  7|     John Doe|2024-08-07| 20| 1100.5|     7.0|\n",
            "|  8|   Jane Smith|2024-08-08| 30|2200.75|     8.0|\n",
            "+---+-------------+----------+---+-------+--------+\n",
            "\n",
            "None\n"
          ]
        }
      ]
    },
    {
      "cell_type": "code",
      "source": [
        "#reverse\n",
        "#Reverses the string in a column.\n",
        "\n",
        "from pyspark.sql.functions import reverse\n",
        "\n",
        "df_reverse = df.withColumn(\"reversed_name\", reverse(col(\"name\")))\n",
        "df_reverse.show()"
      ],
      "metadata": {
        "colab": {
          "base_uri": "https://localhost:8080/"
        },
        "id": "urs6c0BgQcsv",
        "outputId": "c8f2ca60-5104-4dec-fa28-90c231490987"
      },
      "execution_count": 62,
      "outputs": [
        {
          "output_type": "stream",
          "name": "stdout",
          "text": [
            "+---+-------------+----------+---+-------+-------------+\n",
            "| id|         name|       dob|age| salary|reversed_name|\n",
            "+---+-------------+----------+---+-------+-------------+\n",
            "|  1|   Anuj Yadav|2024-08-01| 23| 1000.5|   vadaY junA|\n",
            "|  2|Alina Pradhan|2024-08-02| 34|2000.75|nahdarP anilA|\n",
            "|  3|   Jake White|2024-08-03| 18| 3000.1|   etihW ekaJ|\n",
            "|  4|   Jill Black|2024-08-04| 45|4000.25|   kcalB lliJ|\n",
            "|  5|  James Brown|2024-08-05| 29| 1500.3|  nworB semaJ|\n",
            "|  6|Madhav Mishra|2024-08-06| 31|2500.45|arhsiM vahdaM|\n",
            "|  7|     John Doe|2024-08-07| 20| 1100.5|     eoD nhoJ|\n",
            "|  8|   Jane Smith|2024-08-08| 30|2200.75|   htimS enaJ|\n",
            "+---+-------------+----------+---+-------+-------------+\n",
            "\n"
          ]
        }
      ]
    },
    {
      "cell_type": "code",
      "source": [
        "#initcap\n",
        "#Converts the first letter of each word to uppercase.\n",
        "\n",
        "from pyspark.sql.functions import initcap\n",
        "\n",
        "df_initcap = df.withColumn(\"capitalized_name\", initcap(col(\"name\")))\n",
        "df_initcap.show()"
      ],
      "metadata": {
        "colab": {
          "base_uri": "https://localhost:8080/"
        },
        "id": "E1sJoGrSQeMf",
        "outputId": "997d9da7-6820-4d77-9d1e-86d8a7a1932a"
      },
      "execution_count": 63,
      "outputs": [
        {
          "output_type": "stream",
          "name": "stdout",
          "text": [
            "+---+-------------+----------+---+-------+----------------+\n",
            "| id|         name|       dob|age| salary|capitalized_name|\n",
            "+---+-------------+----------+---+-------+----------------+\n",
            "|  1|   Anuj Yadav|2024-08-01| 23| 1000.5|      Anuj Yadav|\n",
            "|  2|Alina Pradhan|2024-08-02| 34|2000.75|   Alina Pradhan|\n",
            "|  3|   Jake White|2024-08-03| 18| 3000.1|      Jake White|\n",
            "|  4|   Jill Black|2024-08-04| 45|4000.25|      Jill Black|\n",
            "|  5|  James Brown|2024-08-05| 29| 1500.3|     James Brown|\n",
            "|  6|Madhav Mishra|2024-08-06| 31|2500.45|   Madhav Mishra|\n",
            "|  7|     John Doe|2024-08-07| 20| 1100.5|        John Doe|\n",
            "|  8|   Jane Smith|2024-08-08| 30|2200.75|      Jane Smith|\n",
            "+---+-------------+----------+---+-------+----------------+\n",
            "\n"
          ]
        }
      ]
    },
    {
      "cell_type": "code",
      "source": [
        "#instr\n",
        "#Returns the position of the first occurrence of a substring.\n",
        "\n",
        "from pyspark.sql.functions import instr\n",
        "\n",
        "df_instr = df.withColumn(\"position_of_a\", instr(col(\"name\"), \"a\"))\n",
        "print(df_instr.show())\n",
        "print(df_instr.printSchema())\n",
        "\n",
        "#df_instr = df.withColumn(\"position\", instr(col(\"name\"), \"Doe\"))\n",
        "#df_instr.show()"
      ],
      "metadata": {
        "colab": {
          "base_uri": "https://localhost:8080/"
        },
        "id": "VPbk6ylvQf9g",
        "outputId": "64e9c606-ef67-46bc-fd02-7b05b1f823e1"
      },
      "execution_count": 64,
      "outputs": [
        {
          "output_type": "stream",
          "name": "stdout",
          "text": [
            "+---+-------------+----------+---+-------+-------------+\n",
            "| id|         name|       dob|age| salary|position_of_a|\n",
            "+---+-------------+----------+---+-------+-------------+\n",
            "|  1|   Anuj Yadav|2024-08-01| 23| 1000.5|            7|\n",
            "|  2|Alina Pradhan|2024-08-02| 34|2000.75|            5|\n",
            "|  3|   Jake White|2024-08-03| 18| 3000.1|            2|\n",
            "|  4|   Jill Black|2024-08-04| 45|4000.25|            8|\n",
            "|  5|  James Brown|2024-08-05| 29| 1500.3|            2|\n",
            "|  6|Madhav Mishra|2024-08-06| 31|2500.45|            2|\n",
            "|  7|     John Doe|2024-08-07| 20| 1100.5|            0|\n",
            "|  8|   Jane Smith|2024-08-08| 30|2200.75|            2|\n",
            "+---+-------------+----------+---+-------+-------------+\n",
            "\n",
            "None\n",
            "root\n",
            " |-- id: long (nullable = true)\n",
            " |-- name: string (nullable = true)\n",
            " |-- dob: string (nullable = true)\n",
            " |-- age: long (nullable = true)\n",
            " |-- salary: double (nullable = true)\n",
            " |-- position_of_a: integer (nullable = true)\n",
            "\n",
            "None\n"
          ]
        }
      ]
    },
    {
      "cell_type": "code",
      "source": [
        "#locate\n",
        "#Similar to instr, but can start the search from a specified position.\n",
        "from pyspark.sql.functions import locate\n",
        "\n",
        "df_locate = df.withColumn(\"locate_doe\", locate(\"Doe\", col(\"name\")))\n",
        "df_locate.show()\n"
      ],
      "metadata": {
        "colab": {
          "base_uri": "https://localhost:8080/"
        },
        "id": "nint-1HDQh1f",
        "outputId": "e27067e2-9431-4a3f-9f3c-94e6950b7265"
      },
      "execution_count": 65,
      "outputs": [
        {
          "output_type": "stream",
          "name": "stdout",
          "text": [
            "+---+-------------+----------+---+-------+----------+\n",
            "| id|         name|       dob|age| salary|locate_doe|\n",
            "+---+-------------+----------+---+-------+----------+\n",
            "|  1|   Anuj Yadav|2024-08-01| 23| 1000.5|         0|\n",
            "|  2|Alina Pradhan|2024-08-02| 34|2000.75|         0|\n",
            "|  3|   Jake White|2024-08-03| 18| 3000.1|         0|\n",
            "|  4|   Jill Black|2024-08-04| 45|4000.25|         0|\n",
            "|  5|  James Brown|2024-08-05| 29| 1500.3|         0|\n",
            "|  6|Madhav Mishra|2024-08-06| 31|2500.45|         0|\n",
            "|  7|     John Doe|2024-08-07| 20| 1100.5|         6|\n",
            "|  8|   Jane Smith|2024-08-08| 30|2200.75|         0|\n",
            "+---+-------------+----------+---+-------+----------+\n",
            "\n"
          ]
        }
      ]
    },
    {
      "cell_type": "code",
      "source": [
        "#soundex\n",
        "#Converts a string to its Soundex code, useful for phonetic matching\n",
        "\n",
        "from pyspark.sql.functions import soundex\n",
        "\n",
        "df_soundex = df.withColumn(\"soundex_name\", soundex(col(\"name\")))\n",
        "df_soundex.show()\n"
      ],
      "metadata": {
        "colab": {
          "base_uri": "https://localhost:8080/"
        },
        "id": "EDAbOJr7QkgO",
        "outputId": "ea0f02fb-e190-4ce9-abff-e87a149e5658"
      },
      "execution_count": 66,
      "outputs": [
        {
          "output_type": "stream",
          "name": "stdout",
          "text": [
            "+---+-------------+----------+---+-------+------------+\n",
            "| id|         name|       dob|age| salary|soundex_name|\n",
            "+---+-------------+----------+---+-------+------------+\n",
            "|  1|   Anuj Yadav|2024-08-01| 23| 1000.5|        A523|\n",
            "|  2|Alina Pradhan|2024-08-02| 34|2000.75|        A451|\n",
            "|  3|   Jake White|2024-08-03| 18| 3000.1|        J230|\n",
            "|  4|   Jill Black|2024-08-04| 45|4000.25|        J414|\n",
            "|  5|  James Brown|2024-08-05| 29| 1500.3|        J521|\n",
            "|  6|Madhav Mishra|2024-08-06| 31|2500.45|        M315|\n",
            "|  7|     John Doe|2024-08-07| 20| 1100.5|        J530|\n",
            "|  8|   Jane Smith|2024-08-08| 30|2200.75|        J525|\n",
            "+---+-------------+----------+---+-------+------------+\n",
            "\n"
          ]
        }
      ]
    },
    {
      "cell_type": "code",
      "source": [
        "#levenshtein\n",
        "#Computes the Levenshtein distance between two strings.\n",
        "\n",
        "from pyspark.sql.functions import levenshtein\n",
        "\n",
        "df_levenshtein = df.withColumn(\"levenshtein_distance\", levenshtein(col(\"name\"), lit(\"Jon Doe\")))\n",
        "df_levenshtein.show()"
      ],
      "metadata": {
        "colab": {
          "base_uri": "https://localhost:8080/"
        },
        "id": "XqAlwON1QmSQ",
        "outputId": "b579a9e9-a211-4d51-a4ee-7edbb4e2c07d"
      },
      "execution_count": 67,
      "outputs": [
        {
          "output_type": "stream",
          "name": "stdout",
          "text": [
            "+---+-------------+----------+---+-------+--------------------+\n",
            "| id|         name|       dob|age| salary|levenshtein_distance|\n",
            "+---+-------------+----------+---+-------+--------------------+\n",
            "|  1|   Anuj Yadav|2024-08-01| 23| 1000.5|                   9|\n",
            "|  2|Alina Pradhan|2024-08-02| 34|2000.75|                  11|\n",
            "|  3|   Jake White|2024-08-03| 18| 3000.1|                   7|\n",
            "|  4|   Jill Black|2024-08-04| 45|4000.25|                   8|\n",
            "|  5|  James Brown|2024-08-05| 29| 1500.3|                   8|\n",
            "|  6|Madhav Mishra|2024-08-06| 31|2500.45|                  12|\n",
            "|  7|     John Doe|2024-08-07| 20| 1100.5|                   1|\n",
            "|  8|   Jane Smith|2024-08-08| 30|2200.75|                   7|\n",
            "+---+-------------+----------+---+-------+--------------------+\n",
            "\n"
          ]
        }
      ]
    },
    {
      "cell_type": "code",
      "source": [
        "#conv\n",
        "#Converts a number from one base to another.\n",
        "\n",
        "from pyspark.sql.functions import conv\n",
        "\n",
        "df_conv = df.withColumn(\"binary_value\", conv(col(\"id\"), 10, 2))\n",
        "df_conv.show()"
      ],
      "metadata": {
        "colab": {
          "base_uri": "https://localhost:8080/"
        },
        "id": "q7FHoGDFQn1R",
        "outputId": "097c5fbe-6cd1-4fd4-f34e-43b770b4c925"
      },
      "execution_count": 68,
      "outputs": [
        {
          "output_type": "stream",
          "name": "stdout",
          "text": [
            "+---+-------------+----------+---+-------+------------+\n",
            "| id|         name|       dob|age| salary|binary_value|\n",
            "+---+-------------+----------+---+-------+------------+\n",
            "|  1|   Anuj Yadav|2024-08-01| 23| 1000.5|           1|\n",
            "|  2|Alina Pradhan|2024-08-02| 34|2000.75|          10|\n",
            "|  3|   Jake White|2024-08-03| 18| 3000.1|          11|\n",
            "|  4|   Jill Black|2024-08-04| 45|4000.25|         100|\n",
            "|  5|  James Brown|2024-08-05| 29| 1500.3|         101|\n",
            "|  6|Madhav Mishra|2024-08-06| 31|2500.45|         110|\n",
            "|  7|     John Doe|2024-08-07| 20| 1100.5|         111|\n",
            "|  8|   Jane Smith|2024-08-08| 30|2200.75|        1000|\n",
            "+---+-------------+----------+---+-------+------------+\n",
            "\n"
          ]
        }
      ]
    },
    {
      "cell_type": "code",
      "source": [
        "#translate\n",
        "#Replaces characters in a string with other characters.\n",
        "\n",
        "from pyspark.sql.functions import translate\n",
        "\n",
        "df_translate = df.withColumn(\"translated_name\", translate(col(\"name\"), \"o\", \"a\"))\n",
        "df_translate.show()\n"
      ],
      "metadata": {
        "colab": {
          "base_uri": "https://localhost:8080/"
        },
        "id": "uFDISHqzQpje",
        "outputId": "304305d8-2074-4350-9f75-170dec5adc26"
      },
      "execution_count": 69,
      "outputs": [
        {
          "output_type": "stream",
          "name": "stdout",
          "text": [
            "+---+-------------+----------+---+-------+---------------+\n",
            "| id|         name|       dob|age| salary|translated_name|\n",
            "+---+-------------+----------+---+-------+---------------+\n",
            "|  1|   Anuj Yadav|2024-08-01| 23| 1000.5|     Anuj Yadav|\n",
            "|  2|Alina Pradhan|2024-08-02| 34|2000.75|  Alina Pradhan|\n",
            "|  3|   Jake White|2024-08-03| 18| 3000.1|     Jake White|\n",
            "|  4|   Jill Black|2024-08-04| 45|4000.25|     Jill Black|\n",
            "|  5|  James Brown|2024-08-05| 29| 1500.3|    James Brawn|\n",
            "|  6|Madhav Mishra|2024-08-06| 31|2500.45|  Madhav Mishra|\n",
            "|  7|     John Doe|2024-08-07| 20| 1100.5|       Jahn Dae|\n",
            "|  8|   Jane Smith|2024-08-08| 30|2200.75|     Jane Smith|\n",
            "+---+-------------+----------+---+-------+---------------+\n",
            "\n"
          ]
        }
      ]
    },
    {
      "cell_type": "code",
      "source": [
        "#crc32\n",
        "#Computes a cyclic redundancy check value\n",
        "\n",
        "from pyspark.sql.functions import crc32\n",
        "\n",
        "df_crc32 = df.withColumn(\"crc32_name\", crc32(col(\"name\")))\n",
        "df_crc32.show()"
      ],
      "metadata": {
        "colab": {
          "base_uri": "https://localhost:8080/"
        },
        "id": "Lyl1eGSgQq5m",
        "outputId": "374bea0e-56b1-4dee-bb7a-335680a92b8e"
      },
      "execution_count": 70,
      "outputs": [
        {
          "output_type": "stream",
          "name": "stdout",
          "text": [
            "+---+-------------+----------+---+-------+----------+\n",
            "| id|         name|       dob|age| salary|crc32_name|\n",
            "+---+-------------+----------+---+-------+----------+\n",
            "|  1|   Anuj Yadav|2024-08-01| 23| 1000.5|4132308856|\n",
            "|  2|Alina Pradhan|2024-08-02| 34|2000.75|4059018015|\n",
            "|  3|   Jake White|2024-08-03| 18| 3000.1| 931505628|\n",
            "|  4|   Jill Black|2024-08-04| 45|4000.25|3628743810|\n",
            "|  5|  James Brown|2024-08-05| 29| 1500.3|3837056040|\n",
            "|  6|Madhav Mishra|2024-08-06| 31|2500.45|3046363580|\n",
            "|  7|     John Doe|2024-08-07| 20| 1100.5|1782059462|\n",
            "|  8|   Jane Smith|2024-08-08| 30|2200.75|3280634359|\n",
            "+---+-------------+----------+---+-------+----------+\n",
            "\n"
          ]
        }
      ]
    },
    {
      "cell_type": "code",
      "source": [
        "#uuid\n",
        "#Generates a column of UUIDs.\n",
        "\n",
        "from pyspark.sql.functions import expr\n",
        "\n",
        "df_uuid = df.withColumn(\"uuid\", expr(\"uuid()\"))\n",
        "\n",
        "df_uuid.show(truncate = False)\n"
      ],
      "metadata": {
        "colab": {
          "base_uri": "https://localhost:8080/"
        },
        "id": "JEMnAt0_QsMc",
        "outputId": "0353578e-18be-42b9-ddee-7fdf5d8d0666"
      },
      "execution_count": 71,
      "outputs": [
        {
          "output_type": "stream",
          "name": "stdout",
          "text": [
            "+---+-------------+----------+---+-------+------------------------------------+\n",
            "|id |name         |dob       |age|salary |uuid                                |\n",
            "+---+-------------+----------+---+-------+------------------------------------+\n",
            "|1  |Anuj Yadav   |2024-08-01|23 |1000.5 |0e018530-b1e9-40c1-bbde-cdae8738210a|\n",
            "|2  |Alina Pradhan|2024-08-02|34 |2000.75|90abc624-cc10-4a58-919b-1865738c2347|\n",
            "|3  |Jake White   |2024-08-03|18 |3000.1 |713abcf8-8470-4fa6-900a-5322093e3b0a|\n",
            "|4  |Jill Black   |2024-08-04|45 |4000.25|59d534c8-3178-4f6a-b267-37f66192f3a4|\n",
            "|5  |James Brown  |2024-08-05|29 |1500.3 |be6b7f4c-09e0-42eb-af58-04ae1cb4e668|\n",
            "|6  |Madhav Mishra|2024-08-06|31 |2500.45|5e7b94d8-1731-4f96-b4e0-41fe508d6040|\n",
            "|7  |John Doe     |2024-08-07|20 |1100.5 |508ef1ab-cf97-4e78-a0c1-43ac47665205|\n",
            "|8  |Jane Smith   |2024-08-08|30 |2200.75|936cc725-a525-4948-ac98-dd9d3c4770df|\n",
            "+---+-------------+----------+---+-------+------------------------------------+\n",
            "\n"
          ]
        }
      ]
    },
    {
      "cell_type": "code",
      "source": [
        "#percent_rank\n",
        "#Computes the percent rank of a row within a window partition.\n",
        "\n",
        "from pyspark.sql.functions import percent_rank\n",
        "\n",
        "windowSpec = Window.orderBy(col(\"salary\").desc())\n",
        "\n",
        "df_percent_rank = df.withColumn(\"percent_rank\", percent_rank().over(windowSpec))\n",
        "df_percent_rank.show()\n"
      ],
      "metadata": {
        "colab": {
          "base_uri": "https://localhost:8080/"
        },
        "id": "0uu_s727Qtgi",
        "outputId": "f24a8fe5-3577-43ad-b9a1-e479c9e79282"
      },
      "execution_count": 72,
      "outputs": [
        {
          "output_type": "stream",
          "name": "stdout",
          "text": [
            "+---+-------------+----------+---+-------+-------------------+\n",
            "| id|         name|       dob|age| salary|       percent_rank|\n",
            "+---+-------------+----------+---+-------+-------------------+\n",
            "|  4|   Jill Black|2024-08-04| 45|4000.25|                0.0|\n",
            "|  3|   Jake White|2024-08-03| 18| 3000.1|0.14285714285714285|\n",
            "|  6|Madhav Mishra|2024-08-06| 31|2500.45| 0.2857142857142857|\n",
            "|  8|   Jane Smith|2024-08-08| 30|2200.75|0.42857142857142855|\n",
            "|  2|Alina Pradhan|2024-08-02| 34|2000.75| 0.5714285714285714|\n",
            "|  5|  James Brown|2024-08-05| 29| 1500.3| 0.7142857142857143|\n",
            "|  7|     John Doe|2024-08-07| 20| 1100.5| 0.8571428571428571|\n",
            "|  1|   Anuj Yadav|2024-08-01| 23| 1000.5|                1.0|\n",
            "+---+-------------+----------+---+-------+-------------------+\n",
            "\n"
          ]
        }
      ]
    },
    {
      "cell_type": "code",
      "source": [
        "#cume_dist\n",
        "#Computes the cumulative distribution of a value in a group of values.\n",
        "\n",
        "from pyspark.sql.functions import cume_dist\n",
        "\n",
        "df_cume_dist = df.withColumn(\"cume_dist\", cume_dist().over(windowSpec))\n",
        "df_cume_dist.show()\n"
      ],
      "metadata": {
        "colab": {
          "base_uri": "https://localhost:8080/"
        },
        "id": "V--F1dWeQvRG",
        "outputId": "5f5d4210-722a-4e15-977d-61ce7c42218b"
      },
      "execution_count": 73,
      "outputs": [
        {
          "output_type": "stream",
          "name": "stdout",
          "text": [
            "+---+-------------+----------+---+-------+---------+\n",
            "| id|         name|       dob|age| salary|cume_dist|\n",
            "+---+-------------+----------+---+-------+---------+\n",
            "|  4|   Jill Black|2024-08-04| 45|4000.25|    0.125|\n",
            "|  3|   Jake White|2024-08-03| 18| 3000.1|     0.25|\n",
            "|  6|Madhav Mishra|2024-08-06| 31|2500.45|    0.375|\n",
            "|  8|   Jane Smith|2024-08-08| 30|2200.75|      0.5|\n",
            "|  2|Alina Pradhan|2024-08-02| 34|2000.75|    0.625|\n",
            "|  5|  James Brown|2024-08-05| 29| 1500.3|     0.75|\n",
            "|  7|     John Doe|2024-08-07| 20| 1100.5|    0.875|\n",
            "|  1|   Anuj Yadav|2024-08-01| 23| 1000.5|      1.0|\n",
            "+---+-------------+----------+---+-------+---------+\n",
            "\n"
          ]
        }
      ]
    },
    {
      "cell_type": "code",
      "source": [
        "#ntile\n",
        "#Distributes rows of an ordered partition into a specified number of buckets.\n",
        "\n",
        "from pyspark.sql.functions import ntile\n",
        "\n",
        "df_ntile = df.withColumn(\"ntile\", ntile(3).over(windowSpec))\n",
        "df_ntile.show()"
      ],
      "metadata": {
        "colab": {
          "base_uri": "https://localhost:8080/"
        },
        "id": "7nIFADR0Qw2X",
        "outputId": "6462487a-ebc8-4ef2-8a6a-5896e094482e"
      },
      "execution_count": 74,
      "outputs": [
        {
          "output_type": "stream",
          "name": "stdout",
          "text": [
            "+---+-------------+----------+---+-------+-----+\n",
            "| id|         name|       dob|age| salary|ntile|\n",
            "+---+-------------+----------+---+-------+-----+\n",
            "|  4|   Jill Black|2024-08-04| 45|4000.25|    1|\n",
            "|  3|   Jake White|2024-08-03| 18| 3000.1|    1|\n",
            "|  6|Madhav Mishra|2024-08-06| 31|2500.45|    1|\n",
            "|  8|   Jane Smith|2024-08-08| 30|2200.75|    2|\n",
            "|  2|Alina Pradhan|2024-08-02| 34|2000.75|    2|\n",
            "|  5|  James Brown|2024-08-05| 29| 1500.3|    2|\n",
            "|  7|     John Doe|2024-08-07| 20| 1100.5|    3|\n",
            "|  1|   Anuj Yadav|2024-08-01| 23| 1000.5|    3|\n",
            "+---+-------------+----------+---+-------+-----+\n",
            "\n"
          ]
        }
      ]
    },
    {
      "cell_type": "code",
      "source": [
        "#flatten\n",
        "#Flattens an array of arrays into a single array.\n",
        "\n",
        "from pyspark.sql.functions import flatten\n",
        "\n",
        "df_flatten = df.withColumn(\"flattened_array\", flatten(array(array(lit(1), lit(2)), array(lit(3)))))\n",
        "\n",
        "df_flatten.show()"
      ],
      "metadata": {
        "colab": {
          "base_uri": "https://localhost:8080/"
        },
        "id": "CkDta6tvQykX",
        "outputId": "619d0a5e-1f26-4b4b-8bab-b666d2196b51"
      },
      "execution_count": 75,
      "outputs": [
        {
          "output_type": "stream",
          "name": "stdout",
          "text": [
            "+---+-------------+----------+---+-------+---------------+\n",
            "| id|         name|       dob|age| salary|flattened_array|\n",
            "+---+-------------+----------+---+-------+---------------+\n",
            "|  1|   Anuj Yadav|2024-08-01| 23| 1000.5|      [1, 2, 3]|\n",
            "|  2|Alina Pradhan|2024-08-02| 34|2000.75|      [1, 2, 3]|\n",
            "|  3|   Jake White|2024-08-03| 18| 3000.1|      [1, 2, 3]|\n",
            "|  4|   Jill Black|2024-08-04| 45|4000.25|      [1, 2, 3]|\n",
            "|  5|  James Brown|2024-08-05| 29| 1500.3|      [1, 2, 3]|\n",
            "|  6|Madhav Mishra|2024-08-06| 31|2500.45|      [1, 2, 3]|\n",
            "|  7|     John Doe|2024-08-07| 20| 1100.5|      [1, 2, 3]|\n",
            "|  8|   Jane Smith|2024-08-08| 30|2200.75|      [1, 2, 3]|\n",
            "+---+-------------+----------+---+-------+---------------+\n",
            "\n"
          ]
        }
      ]
    },
    {
      "cell_type": "code",
      "source": [
        "#grouping_id\n",
        "#Returns the level of grouping applied.\n",
        "\n",
        "from pyspark.sql.functions import grouping_id\n",
        "from pyspark.sql import functions as F\n",
        "\n",
        "# Use GroupingSets to create multiple grouping levels\n",
        "df_grouping_sets = df.cube(\"age\", \"salary\").agg(grouping_id().alias(\"grouping_id\"), F.sum(\"salary\"))\n",
        "df_grouping_sets.show()"
      ],
      "metadata": {
        "colab": {
          "base_uri": "https://localhost:8080/"
        },
        "id": "EAuF2HqLQ0Hm",
        "outputId": "137f492e-bc2c-4e61-88fe-5427cb95db17"
      },
      "execution_count": 76,
      "outputs": [
        {
          "output_type": "stream",
          "name": "stdout",
          "text": [
            "+----+-------+-----------+-----------+\n",
            "| age| salary|grouping_id|sum(salary)|\n",
            "+----+-------+-----------+-----------+\n",
            "|NULL| 1000.5|          2|     1000.5|\n",
            "|  45|   NULL|          1|    4000.25|\n",
            "|NULL|4000.25|          2|    4000.25|\n",
            "|  34|   NULL|          1|    2000.75|\n",
            "|NULL| 3000.1|          2|     3000.1|\n",
            "|NULL|   NULL|          3|    17303.6|\n",
            "|  23|   NULL|          1|     1000.5|\n",
            "|  45|4000.25|          0|    4000.25|\n",
            "|  34|2000.75|          0|    2000.75|\n",
            "|NULL|2000.75|          2|    2000.75|\n",
            "|  23| 1000.5|          0|     1000.5|\n",
            "|  18| 3000.1|          0|     3000.1|\n",
            "|  18|   NULL|          1|     3000.1|\n",
            "|  29| 1500.3|          0|     1500.3|\n",
            "|NULL| 1500.3|          2|     1500.3|\n",
            "|NULL| 1100.5|          2|     1100.5|\n",
            "|  29|   NULL|          1|     1500.3|\n",
            "|  30|2200.75|          0|    2200.75|\n",
            "|NULL|2200.75|          2|    2200.75|\n",
            "|  20|   NULL|          1|     1100.5|\n",
            "+----+-------+-----------+-----------+\n",
            "only showing top 20 rows\n",
            "\n"
          ]
        }
      ]
    },
    {
      "cell_type": "code",
      "source": [
        "#rollup\n",
        "#Used for multi-dimensional aggregates, similar to cube but with a subset of it.\n",
        "\n",
        "#from pyspark.sql.functions import rollup\n",
        "\n",
        "df_rollup = df.rollup(\"age\", \"salary\").count()\n",
        "df_rollup.show()\n"
      ],
      "metadata": {
        "colab": {
          "base_uri": "https://localhost:8080/"
        },
        "id": "qaODBhtLQ1jz",
        "outputId": "79e5407d-fba1-40e8-8fb0-059217a19b15"
      },
      "execution_count": 77,
      "outputs": [
        {
          "output_type": "stream",
          "name": "stdout",
          "text": [
            "+----+-------+-----+\n",
            "| age| salary|count|\n",
            "+----+-------+-----+\n",
            "|  45|   NULL|    1|\n",
            "|  34|   NULL|    1|\n",
            "|NULL|   NULL|    8|\n",
            "|  23|   NULL|    1|\n",
            "|  45|4000.25|    1|\n",
            "|  34|2000.75|    1|\n",
            "|  23| 1000.5|    1|\n",
            "|  18| 3000.1|    1|\n",
            "|  18|   NULL|    1|\n",
            "|  29| 1500.3|    1|\n",
            "|  29|   NULL|    1|\n",
            "|  30|2200.75|    1|\n",
            "|  20|   NULL|    1|\n",
            "|  20| 1100.5|    1|\n",
            "|  30|   NULL|    1|\n",
            "|  31|   NULL|    1|\n",
            "|  31|2500.45|    1|\n",
            "+----+-------+-----+\n",
            "\n"
          ]
        }
      ]
    },
    {
      "cell_type": "code",
      "source": [
        "#corr\n",
        "#Returns the Pearson correlation coefficient between two columns.\n",
        "\n",
        "from pyspark.sql.functions import corr\n",
        "\n",
        "df_corr = df.select(corr(col(\"age\"), col(\"salary\")))\n",
        "df_corr.show()"
      ],
      "metadata": {
        "colab": {
          "base_uri": "https://localhost:8080/"
        },
        "id": "8cVyel9cQ2-h",
        "outputId": "c9a85483-e76e-466e-e1e2-da9149c601af"
      },
      "execution_count": 78,
      "outputs": [
        {
          "output_type": "stream",
          "name": "stdout",
          "text": [
            "+------------------+\n",
            "| corr(age, salary)|\n",
            "+------------------+\n",
            "|0.5991996464292686|\n",
            "+------------------+\n",
            "\n"
          ]
        }
      ]
    },
    {
      "cell_type": "code",
      "source": [
        "\n",
        "#collect_list\n",
        "#Returns all values from an aggregated group as a list.\n",
        "\n",
        "from pyspark.sql.functions import collect_list\n",
        "\n",
        "#df_collect_list = df.groupBy(\"age\").agg(collect_list(\"salary\").alias(\"salary_list\"))\n",
        "#df_collect_list.show()\n",
        "\n",
        "from pyspark.sql.functions import collect_list\n",
        "\n",
        "df_all = df.groupBy(\"age\").agg(collect_list(\"name\").alias(\"names\")).show()\n",
        "df_all\n",
        ""
      ],
      "metadata": {
        "colab": {
          "base_uri": "https://localhost:8080/"
        },
        "id": "T-VoxhJFQ4el",
        "outputId": "5c4b8d5f-4950-4cb3-c6f8-3fb9008997ca"
      },
      "execution_count": 79,
      "outputs": [
        {
          "output_type": "stream",
          "name": "stdout",
          "text": [
            "+---+---------------+\n",
            "|age|          names|\n",
            "+---+---------------+\n",
            "| 34|[Alina Pradhan]|\n",
            "| 18|   [Jake White]|\n",
            "| 23|   [Anuj Yadav]|\n",
            "| 45|   [Jill Black]|\n",
            "| 29|  [James Brown]|\n",
            "| 31|[Madhav Mishra]|\n",
            "| 30|   [Jane Smith]|\n",
            "| 20|     [John Doe]|\n",
            "+---+---------------+\n",
            "\n"
          ]
        }
      ]
    },
    {
      "cell_type": "code",
      "source": [],
      "metadata": {
        "id": "QYzN2MEuQ682"
      },
      "execution_count": null,
      "outputs": []
    }
  ]
}