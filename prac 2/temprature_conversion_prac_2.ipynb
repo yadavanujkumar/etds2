{
  "nbformat": 4,
  "nbformat_minor": 0,
  "metadata": {
    "colab": {
      "provenance": []
    },
    "kernelspec": {
      "name": "python3",
      "display_name": "Python 3"
    },
    "language_info": {
      "name": "python"
    }
  },
  "cells": [
    {
      "cell_type": "markdown",
      "source": [
        "temprature conversion celsius to farehinit"
      ],
      "metadata": {
        "id": "qy2wg6dWBYpc"
      }
    },
    {
      "cell_type": "code",
      "source": [
        "from pyspark import SparkConf, SparkContext"
      ],
      "metadata": {
        "id": "mDaLPmK8Bgqb"
      },
      "execution_count": null,
      "outputs": []
    },
    {
      "cell_type": "code",
      "source": [
        "#intilizing spark context\n",
        "conf = SparkConf().setAppName(\"PySparkTempratureConversion\").setMaster(\"local\")\n",
        "sc = SparkContext(conf = conf)"
      ],
      "metadata": {
        "id": "-6SWOdNLBrxE"
      },
      "execution_count": null,
      "outputs": []
    },
    {
      "cell_type": "code",
      "source": [
        "#creting rdd from  alist of temraure in celsius\n",
        "celsius_temps = [0,-20,30.45,-40,100]\n",
        "rdd=sc.parallelize(celsius_temps)"
      ],
      "metadata": {
        "id": "6Ty_QjbgCBQT"
      },
      "execution_count": null,
      "outputs": []
    },
    {
      "cell_type": "code",
      "source": [
        "#transformation: convert celsius to farehnit\n",
        "fahrenheit_rdd = rdd.map(lambda c: (c, (c * 9/5) + 32))"
      ],
      "metadata": {
        "id": "9YLafhyPCXpk"
      },
      "execution_count": null,
      "outputs": []
    },
    {
      "cell_type": "code",
      "source": [
        "#actoin: collect result\n",
        "fahrenheit_temps = fahrenheit_rdd.collect()"
      ],
      "metadata": {
        "id": "-GvPulxQDGn0"
      },
      "execution_count": null,
      "outputs": []
    },
    {
      "cell_type": "code",
      "source": [
        "#printing result\n",
        "for c,f in fahrenheit_temps:\n",
        "    print(f\"{c} C = {f} F\")"
      ],
      "metadata": {
        "colab": {
          "base_uri": "https://localhost:8080/"
        },
        "id": "U1jjYof3DQwL",
        "outputId": "5c888c52-870b-4c6e-9bf0-cf1b48a1b823"
      },
      "execution_count": null,
      "outputs": [
        {
          "output_type": "stream",
          "name": "stdout",
          "text": [
            "0 C = 32.0 F\n",
            "-20 C = -4.0 F\n",
            "30.45 C = 86.81 F\n",
            "-40 C = -40.0 F\n",
            "100 C = 212.0 F\n"
          ]
        }
      ]
    },
    {
      "cell_type": "code",
      "source": [
        "sc.stop()"
      ],
      "metadata": {
        "id": "GgVax15LDWEz"
      },
      "execution_count": null,
      "outputs": []
    }
  ]
}